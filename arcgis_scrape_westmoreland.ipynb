{
 "cells": [
  {
   "cell_type": "code",
   "execution_count": 50,
   "metadata": {},
   "outputs": [],
   "source": [
    "url = 'https://gis.westmorelandcountypa.gov/arcgis/rest/services/Upgrade/Parcels_AS400_VIEW_Upgrade/MapServer/2/query?where=1+%3D+1&text=&objectIds=&time=&timeRelation=esriTimeRelationOverlaps&geometry=%7B%22xmin%22%3A-8849573.386745242%2C%22ymin%22%3A4891969.810252989%2C%22xmax%22%3A-8847127.401840117%2C%22ymax%22%3A4894415.795158112%7D&geometryType=esriGeometryEnvelope&inSR=&spatialRel=esriSpatialRelIntersects&distance=500&units=esriSRUnit_StatuteMile&relationParam=&outFields=*&returnGeometry=true&returnTrueCurves=false&maxAllowableOffset=&geometryPrecision=&outSR=&havingClause=&returnIdsOnly=false&returnCountOnly=false&orderByFields=&groupByFieldsForStatistics=&outStatistics=&returnZ=true&returnM=false&gdbVersion=&historicMoment=&returnDistinctValues=false&resultOffset={}&resultRecordCount={}&returnExtentOnly=false&sqlFormat=none&datumTransformation=&parameterValues=&rangeValues=&quantizationParameters=&featureEncoding=esriDefault&f=geojson'\n",
    "count_url = 'https://gis.westmorelandcountypa.gov/arcgis/rest/services/Upgrade/Parcels_AS400_VIEW_Upgrade/MapServer/2/query?where=TWNSHP_NAM+%3D+%27HEMPFIELD%27&text=&objectIds=&time=&timeRelation=esriTimeRelationOverlaps&geometry=%7B%22xmin%22%3A-8849573.386745242%2C%22ymin%22%3A4891969.810252989%2C%22xmax%22%3A-8847127.401840117%2C%22ymax%22%3A4894415.795158112%7D&geometryType=esriGeometryEnvelope&inSR=&spatialRel=esriSpatialRelIntersects&distance=500&units=esriSRUnit_StatuteMile&relationParam=&outFields=*&returnGeometry=true&returnTrueCurves=false&maxAllowableOffset=&geometryPrecision=&outSR=&havingClause=&returnIdsOnly=false&returnCountOnly=true&orderByFields=&groupByFieldsForStatistics=&outStatistics=&returnZ=true&returnM=false&gdbVersion=&historicMoment=&returnDistinctValues=false&resultOffset=0&resultRecordCount=&returnExtentOnly=false&sqlFormat=none&datumTransformation=&parameterValues=&rangeValues=&quantizationParameters=&featureEncoding=esriDefault&f=json'"
   ]
  },
  {
   "cell_type": "code",
   "execution_count": 31,
   "metadata": {},
   "outputs": [],
   "source": [
    "import requests\n",
    "import json\n",
    "import pandas as pd\n",
    "import geopandas as gpd"
   ]
  },
  {
   "cell_type": "code",
   "execution_count": 8,
   "metadata": {},
   "outputs": [],
   "source": [
    "batch_size = 2000\n",
    "count = requests.get(count_url).json()['count']"
   ]
  },
  {
   "cell_type": "code",
   "execution_count": 9,
   "metadata": {},
   "outputs": [
    {
     "data": {
      "text/plain": [
       "20933"
      ]
     },
     "execution_count": 9,
     "metadata": {},
     "output_type": "execute_result"
    }
   ],
   "source": [
    "count"
   ]
  },
  {
   "cell_type": "code",
   "execution_count": 10,
   "metadata": {},
   "outputs": [],
   "source": [
    "out = requests.get(url.format(0)).json()"
   ]
  },
  {
   "cell_type": "code",
   "execution_count": 16,
   "metadata": {},
   "outputs": [
    {
     "data": {
      "text/plain": [
       "dict_keys(['type', 'features', 'exceededTransferLimit', 'properties'])"
      ]
     },
     "execution_count": 16,
     "metadata": {},
     "output_type": "execute_result"
    }
   ],
   "source": [
    "out.keys()"
   ]
  },
  {
   "cell_type": "code",
   "execution_count": 51,
   "metadata": {},
   "outputs": [
    {
     "name": "stdout",
     "output_type": "stream",
     "text": [
      "Found 20933 features. Doing 11 loops\n",
      "Loop 0\n",
      "Loop 1\n",
      "Loop 2\n",
      "Loop 3\n",
      "Loop 4\n",
      "Loop 5\n",
      "Loop 6\n",
      "Loop 7\n",
      "Loop 8\n",
      "Loop 9\n",
      "Loop 10\n",
      "Last loop i=10; loops=11.  Fetching 933 records.\n",
      "Found 20933 records.\n",
      "20933\n"
     ]
    }
   ],
   "source": [
    "gj_out = None\n",
    "loops = int(round(count / batch_size + 0.499999, 0))\n",
    "print(f'Found {count} features. Doing {loops} loops')\n",
    "last_record_limit =  count - batch_size * (loops - 1)\n",
    "\n",
    "for i in range(loops):\n",
    "    print(f'Loop {i}')\n",
    "    if i == loops - 1:\n",
    "        print(f'Last loop i={i}; loops={loops}.  Fetching {last_record_limit} records.')\n",
    "        gj = requests.get(url.format(i*batch_size, last_record_limit)).json()\n",
    "    else:\n",
    "        gj = requests.get(url.format(i*batch_size, batch_size)).json()\n",
    "    if gj_out is None:\n",
    "        gj_out = gj\n",
    "    else:\n",
    "        gj_out['features'] += gj['features']\n",
    "    \n",
    "print(f'Found {len(gj_out['features'])} records.')\n",
    "with open(f'gjout.geojson', 'w') as f:\n",
    "    f.write(json.dumps(gj_out))\n",
    "\n",
    "df = gpd.read_file('gjout.geojson')\n",
    "\n",
    "df.to_csv('gjout.csv')\n",
    "\n",
    "print(len(gj_out['features']))\n"
   ]
  },
  {
   "cell_type": "code",
   "execution_count": 46,
   "metadata": {},
   "outputs": [
    {
     "data": {
      "text/plain": [
       "933"
      ]
     },
     "execution_count": 46,
     "metadata": {},
     "output_type": "execute_result"
    }
   ],
   "source": [
    "count - batch_size * (loops - 1)"
   ]
  },
  {
   "cell_type": "code",
   "execution_count": 58,
   "metadata": {},
   "outputs": [],
   "source": [
    "\n",
    "df = gpd.read_file('gjout.geojson')\n"
   ]
  },
  {
   "cell_type": "code",
   "execution_count": 62,
   "metadata": {},
   "outputs": [],
   "source": [
    "dfcsv = df.drop(['geometry'], axis='columns')\n",
    "dfcsv.to_csv('gjout.csv')"
   ]
  }
 ],
 "metadata": {
  "kernelspec": {
   "display_name": "venv",
   "language": "python",
   "name": "python3"
  },
  "language_info": {
   "codemirror_mode": {
    "name": "ipython",
    "version": 3
   },
   "file_extension": ".py",
   "mimetype": "text/x-python",
   "name": "python",
   "nbconvert_exporter": "python",
   "pygments_lexer": "ipython3",
   "version": "3.12.3"
  }
 },
 "nbformat": 4,
 "nbformat_minor": 2
}
