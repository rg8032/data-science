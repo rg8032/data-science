{
 "cells": [
  {
   "cell_type": "code",
   "execution_count": 1,
   "metadata": {},
   "outputs": [],
   "source": [
    "import requests\n",
    "from lxml import html\n",
    "\n",
    "import unicodecsv as csv\n",
    "import pandas as pd\n",
    "import numpy as np\n",
    "\n",
    "import time\n",
    "import random\n",
    "import re\n",
    "import json\n",
    "\n",
    "from IPython.display import display, Markdown, HTML\n",
    "import IPython.display as dsp\n",
    "\n",
    "pd.set_option('display.width', None)\n",
    "pd.set_option('display.max_rows', 120)\n",
    "pd.set_option('display.max_info_rows', 120)\n",
    "pd.set_option('display.max_info_columns', 120)\n",
    "pd.options.display.max_colwidth = 200  # pd.set_option('display.max_colwidth', 200)\n",
    "pd.set_option('display.float_format', lambda fp: f'{fp:,.3f}')\n",
    "\n",
    "\n",
    "import missingno as msno\n",
    "import seaborn as sns\n",
    "import matplotlib.pyplot as plt\n",
    "\n",
    "import sklearn.preprocessing\n",
    "import sklearn.impute\n",
    "import sklearn.neighbors\n",
    "import sklearn.cluster\n",
    "\n",
    "import scipy.stats\n",
    "\n",
    "from selenium import webdriver\n",
    "from selenium.webdriver.common.by import By\n",
    "from selenium.common.exceptions import NoSuchElementException\n",
    "from selenium.webdriver.support.ui import Select\n",
    "from time import sleep\n",
    "\n",
    "LINE_UP, LINE_CLEAR = None, None\n"
   ]
  },
  {
   "cell_type": "code",
   "execution_count": 2,
   "metadata": {},
   "outputs": [],
   "source": [
    "def write(name, data):\n",
    "    with open(name, 'w') as f:\n",
    "        f.write(data)"
   ]
  },
  {
   "cell_type": "code",
   "execution_count": 3,
   "metadata": {},
   "outputs": [],
   "source": [
    "def random_ua():\n",
    "    user_agents = [\n",
    "        'Mozilla/5.0 (Windows NT 10.0; Win64; x64) AppleWebKit/537.36 (KHTML, like Gecko) Chrome/130.0.0.0 Safari/537.3',\n",
    "        #'Mozilla/5.0 (Macintosh; Intel Mac OS X 10_15_7) AppleWebKit/537.36 (KHTML, like Gecko) Chrome/123.0.0.0 Safari/537.36',\n",
    "        #'Mozilla/5.0 (X11; CrOS x86_64 8172.45.0) AppleWebKit/537.36 (KHTML, like Gecko) Chrome/51.0.2704.64 Safari/537.36',\n",
    "        'Mozilla/5.0 (Windows NT 10.0; Win64; x64) AppleWebKit/537.36 (KHTML, like Gecko) Chrome/130.0.0.0 Safari/537.36 Edg/130.0.0.0',\n",
    "    ]\n",
    "    selected_ua = random.choice(user_agents)\n",
    "    print(f'Selected UA: {selected_ua}')\n",
    "    return selected_ua"
   ]
  },
  {
   "cell_type": "code",
   "execution_count": 4,
   "metadata": {},
   "outputs": [],
   "source": [
    "def countdown( min, max=None, buffer=None, prefix='Sleeping', postfix='...'):\n",
    "    '''Print a countdown to screen.  Erase it when it is done.  \n",
    "    Accepts either the time to countdown OR a min and max for randint for random sleeps.'''\n",
    "    if max is None:\n",
    "        max = min\n",
    "    \n",
    "    delay = random.randint(min, max)\n",
    "    for i in range(delay):\n",
    "        msg = f'{prefix} {delay-i:<2}s'\n",
    "        msg = f'{msg:<14}s / {delay:>2}s {postfix}'\n",
    "        if buffer is None:\n",
    "            print(msg, end='')\n",
    "        else:\n",
    "            buffer.update(Markdown(msg))\n",
    "\n",
    "        time.sleep(1)\n",
    "        if buffer is None:\n",
    "            print(f'\\r                      ', end='\\r')\n",
    "        #else:\n",
    "            #buffer.update(Markdown(f' '))\n",
    "    if buffer is None:\n",
    "        print(LINE_UP, LINE_CLEAR, end='')\n",
    "    else:\n",
    "        buffer.update(Markdown('Sleeping complete ...'))\n",
    "    "
   ]
  },
  {
   "cell_type": "code",
   "execution_count": 5,
   "metadata": {},
   "outputs": [],
   "source": [
    "def write_csv(data, target, fieldnames=None):\n",
    "    # Save data to csv\n",
    "\n",
    "    with open(f'properties-{target}.csv', 'wb') as csvfile:\n",
    "        if fieldnames is None:\n",
    "            fieldnames = list(data[0].keys())\n",
    "        print(f'Fieldnames: {fieldnames}')\n",
    "        writer = csv.DictWriter(csvfile, fieldnames=fieldnames)\n",
    "        writer.writeheader()\n",
    "        for row in data:\n",
    "            writer.writerow(row)"
   ]
  },
  {
   "cell_type": "code",
   "execution_count": 6,
   "metadata": {},
   "outputs": [],
   "source": [
    "def pr(msg, buffer=None, end='\\n', auto_format=True):\n",
    "    #format = dict(top='## {}', mid='{}', bot='{}')  # buffers are IPython.display.display objects with a 'name' attribute added\n",
    "\n",
    "    if not buffer:\n",
    "        print(msg, end=end)\n",
    "    \n",
    "    else:\n",
    "       #print('PR: msg type: ', type(msg))\n",
    "       if isinstance(msg, str):\n",
    "        if auto_format:\n",
    "            try:\n",
    "              msg = buffer.format.format(msg)\n",
    "            except Exception as e:\n",
    "              #print('In pr(): buffer formatting failed')\n",
    "              pass\n",
    "        buffer.update(Markdown(msg))\n",
    "       \n",
    "       else:\n",
    "          #print('PR: msg type: ',type(msg), 'auto_format: ', auto_format)\n",
    "          buffer.update(msg)\n"
   ]
  },
  {
   "cell_type": "code",
   "execution_count": null,
   "metadata": {},
   "outputs": [
    {
     "data": {
      "text/plain": [
       "'...'"
      ]
     },
     "metadata": {},
     "output_type": "display_data"
    },
    {
     "data": {
      "text/plain": [
       "'...'"
      ]
     },
     "metadata": {},
     "output_type": "display_data"
    },
    {
     "data": {
      "text/plain": [
       "'...'"
      ]
     },
     "metadata": {},
     "output_type": "display_data"
    }
   ],
   "source": [
    "def get_display_handles():\n",
    "    dh_top = display('...', display_id=True)\n",
    "    dh_mid = display('...', display_id=True)\n",
    "    dh_bot = display('...', display_id=True)\n",
    "\n",
    "    dh_top.name = 'top'\n",
    "    dh_mid.name = 'mid'\n",
    "    dh_bot.name = 'bot'\n",
    "\n",
    "    dh_top.format = '#### {}'\n",
    "    dh_bot.format = '{}'\n",
    "    dh_mid.format = '{}'\n",
    "    \n",
    "    return (dh_top, dh_mid, dh_bot)\n",
    "\n",
    "dh_top, dh_mid, dh_bot = get_display_handles()"
   ]
  },
  {
   "cell_type": "code",
   "execution_count": null,
   "metadata": {},
   "outputs": [],
   "source": [
    "def ALCO_fetch_data(target=None, filter=''):\n",
    "    base_url = 'https://southfayettepa.com/AgendaCenter/Search/?term=&CIDs=5,&startDate=&endDate=&dateRange=&dateSelector='\n",
    "    if target is None:\n",
    "        target = '/Default.aspx'\n",
    "        #url = 'https://www.redfin.com/county/2362/PA/Allegheny-County/'\n",
    "    else:\n",
    "        if target[0] != '/':\n",
    "            target = '/' + target\n",
    "        if target[-1] != '/':\n",
    "            target += '/'\n",
    "        if filter != '':\n",
    "            if filter[0] == '/':\n",
    "                filter = filter[1:]\n",
    "            if filter[-1] != '/':\n",
    "                filter += '/'\n",
    "    # url = base_url.format(target+filter)\n",
    "    url = base_url\n",
    "    \n",
    "    headers = {\n",
    "        'accept': 'text/html,application/xhtml+xml,application/xml;q=0.9,image/avif,image/webp,image/apng,*/*;q=0.8,application/signed-exchange;v=b3;q=0.7',\n",
    "        'accept-language': 'en-US,en;q=0.9',\n",
    "        'cache-control': 'max-age=0',\n",
    "        'sec-ch-ua': '\"Microsoft Edge\";v=\"131\", \"Chromium\";v=\"131\", \"Not_A Brand\";v=\"24\"',\n",
    "        'sec-ch-ua-mobile':'?',\n",
    "        'sec-ch-ua-platform':'\"Windows\"',\n",
    "        'sec-fetch-dest':'document',\n",
    "        'sec-fetch-mode':'navigate',\n",
    "        'sec-fetch-site':'none',\n",
    "        'sec-fetch-user':'?1',\n",
    "        'upgrade-insecure-requests':'1',\n",
    "        'User-Agent': 'Mozilla/5.0 (Windows NT 10.0; Win64; x64) AppleWebKit/537.36 (KHTML, like Gecko) Chrome/130.0.0.0 Safari/537.36 Edg/130.0.0.0',\n",
    "    }\n",
    "    s = requests.Session()\n",
    "    s.headers.update(headers)\n",
    "\n",
    "    #options = webdriver.FirefoxOptions()\n",
    "    #service = webdriver.FirefoxService(executable_path='/usr/bin/firefox')\n",
    "    #driver = webdriver.Firefox(service=service, options=options)\n",
    "    driver = webdriver.Firefox()\n",
    "    df = None\n",
    "    dh_top, dh_mid, dh_bot = get_display_handles()\n",
    "    print(dh_top, dh_mid, dh_bot)\n",
    "    #input()\n",
    "    # Loop\n",
    "    while url is not None:\n",
    "        response = s.get(url=url)\n",
    "        driver.get(url)\n",
    "        parser = html.fromstring(response.text)\n",
    "        return s, driver, parser\n",
    "        pr(f'**{response.status_code}**: {url}', buffer=dh_top)\n",
    "        \n",
    "        new_data = RF_get_df(parser, index='propertyId')\n",
    "        if df is None:\n",
    "            df = new_data\n",
    "        else:\n",
    "            df = pd.concat((df, new_data))\n",
    "            pr(f'Page {url[-1]}: Added {df.shape[0]:>5} new rows.', buffer=dh_bot)\n",
    "\n",
    "        last_url = url\n",
    "        next_suffix = RF_next_url_suffix(parser)\n",
    "        url = base_url.format(next_suffix) if next_suffix is not None else None\n",
    "        if url is None or last_url == url:\n",
    "            pr(f'**BREAKING**: No more URLs. Last URL: {last_url}', buffer=dh_mid)\n",
    "            break\n",
    "\n",
    "        countdown(min=3, max=7, buffer=dh_mid, postfix=f'Next URL: {url}')   # Sleep\n",
    "        pr(f'Looping from beginning.  Next URL: {url}', buffer=dh_mid)\n",
    "    \n",
    "    return df"
   ]
  },
  {
   "cell_type": "code",
   "execution_count": 2,
   "metadata": {},
   "outputs": [],
   "source": [
    "def get_driver(url='https://southfayettepa.com/AgendaCenter/Search/?term=&CIDs=5,&startDate=&endDate=&dateRange=&dateSelector='):\n",
    "    options = webdriver.FirefoxOptions()\n",
    "    service = webdriver.FirefoxService(executable_path=r'/snap/bin/geckodriver')\n",
    "    driver = webdriver.Firefox(options=options, service=service)\n",
    "    driver.get(url)\n",
    "    return driver"
   ]
  },
  {
   "cell_type": "code",
   "execution_count": 10,
   "metadata": {},
   "outputs": [],
   "source": [
    "def setup_page(driver):\n",
    "    # Determine if this is the disclaimer page\n",
    "    try:\n",
    "        if driver.find_element(By.TAG_NAME, value='h1').text.lower() == 'legal disclaimer':\n",
    "            # We need to click to go forward\n",
    "            btn_continue = driver.find_element(by='id', value='btnContinue')\n",
    "            btn_continue.click()\n",
    "    except NoSuchElementException as e:\n",
    "        print('No h1 tag found to compare for legal disclaimer')\n",
    "        pass\n",
    "\n",
    "    try:\n",
    "        driver.find_element(By.CLASS_NAME, 'beta-button-2').click()\n",
    "    except NoSuchElementException as e:\n",
    "        # Not found ... move on\n",
    "        print('beta popup close button was not found; failing silently')\n",
    "        pass"
   ]
  },
  {
   "cell_type": "code",
   "execution_count": 11,
   "metadata": {},
   "outputs": [],
   "source": [
    "def address_search(driver, selectm='Bethel Park'):\n",
    "    #street_name = driver.find_element(By.ID, 'txtStreetName')\n",
    "    #street_name.send_keys(' ')\n",
    "    \n",
    "    select_muni = Select(driver.find_element(By.ID, 'ddlMuniCode'))\n",
    "    select_muni.select_by_visible_text(selectm)\n",
    "\n",
    "    btn_search = driver.find_element(By.ID, 'btnSearch')\n",
    "    btn_search.click()\n",
    "    sleep(3)\n",
    "\n",
    "    pager = None\n",
    "    while pager is None:\n",
    "        try:\n",
    "            pager = driver.find_element(By.ID, 'pnlPageNums')\n",
    "        except Exception as e:\n",
    "            pager = None\n",
    "        driver.find_element(By.ID, 'txtStreetName').send_keys(' ')  \n",
    "        driver.find_element(By.ID, 'btnSearch').click()\n",
    "        sleep(10)\n",
    "\n",
    "    print('loaded')\n",
    "\n",
    "    link = driver.find_element(By.XPATH, '//table[@id=\"dgSearchResults\"]//tr[2]/td/a')\n",
    "    link.click()\n",
    "    \n",
    "#address_search(driver)"
   ]
  },
  {
   "cell_type": "code",
   "execution_count": 82,
   "metadata": {},
   "outputs": [],
   "source": [
    "def grab_page(driver, VERBOSE=False, dh=None):\n",
    "    data = [td.text for td in driver.find_elements(By.XPATH, '//table[@id=\"Table3\"]//td/span')]\n",
    "    \n",
    "    next_key = True\n",
    "    assessments = False\n",
    "    assessment_no = 0\n",
    "    assessment_first = True\n",
    "    \n",
    "    data1 = []\n",
    "    data2 = []\n",
    "    \n",
    "    for idx, d in enumerate(data):\n",
    "        if assessments:\n",
    "            if assessment_no < 4:\n",
    "                if assessment_first:  # It's a key\n",
    "                    #print(d, 'is assessment key.')\n",
    "                    data1.append(d)    \n",
    "                else:  # It's a value\n",
    "                    #print(d, 'is assessment value.')\n",
    "                    d = d.replace('$', '').replace(',', '')\n",
    "\n",
    "                    data2.append(d)\n",
    "                    assessment_no += 1\n",
    "                    \n",
    "                assessment_first = not assessment_first\n",
    "\n",
    "        elif next_key:  # Looking for a key\n",
    "            if d[-1] == ':':  # It's a key\n",
    "                #print(d, 'is a key')\n",
    "                d = d[:-2]  # Strip trailing ' :'\n",
    "                data1.append(d)\n",
    "                next_key = False\n",
    "            else:  # Not actually a key\n",
    "                if d[4:] == ' County Assessed Value (Projected)':\n",
    "                    #print(d, 'is last header for assessments.')\n",
    "                    assessments = True\n",
    "                else:\n",
    "                    if data[idx-1] == 'Sale Price':\n",
    "                        d = d.replace('$', '').replace(',', '')\n",
    "                    elif data[idx-1] == 'Lot Area':\n",
    "                        d = d.replace(' Acres', '')\n",
    "                    #print(d, 'is not actually a key.  Skipping ...')\n",
    "                    next_key = True\n",
    "        else: # expecting a value\n",
    "            #print(d, 'is this a value?')\n",
    "            data2.append(d)\n",
    "            next_key = True\n",
    "\n",
    "    \n",
    "    as_dict = dict(zip(data1, data2))\n",
    "    try:\n",
    "        as_dict['PIN'] = driver.find_element(By.ID, 'BasicInfo1_lblParcelID').text\n",
    "        as_dict['Address'] = driver.find_element(By.ID, 'BasicInfo1_lblAddress').text\n",
    "        as_dict['Owner'] = driver.find_element(By.ID, 'BasicInfo1_lblOwner').text\n",
    "    except NoSuchElementException as e:\n",
    "        dh.update('PIN/Address/Owner not found.  Probably got timed out.')\n",
    "        \n",
    "    if VERBOSE:\n",
    "        if dh is None:\n",
    "            print(as_dict.get('PIN', 'NO_PIN_FOUND'), end='    ')\n",
    "        else:\n",
    "            dh.update(f'Record {i}:\\t{as_dict['PIN']}')\n",
    "    \n",
    "    record_number = int(driver.find_element(By.ID, 'Header1_lblRecNum').text)\n",
    "    \n",
    "    return as_dict, record_number\n",
    "#grab_page(driver)"
   ]
  },
  {
   "cell_type": "code",
   "execution_count": 13,
   "metadata": {},
   "outputs": [],
   "source": [
    "def next_page(driver):\n",
    "    driver.find_element(By.ID, 'Header1_btnNextRec').click()\n",
    "#next_page(driver)"
   ]
  },
  {
   "cell_type": "code",
   "execution_count": 20,
   "metadata": {},
   "outputs": [
    {
     "data": {
      "text/plain": [
       "selenium.webdriver.firefox.webdriver.WebDriver"
      ]
     },
     "execution_count": 20,
     "metadata": {},
     "output_type": "execute_result"
    }
   ],
   "source": [
    "driver = get_driver()\n",
    "type(driver)"
   ]
  },
  {
   "cell_type": "code",
   "execution_count": 70,
   "metadata": {},
   "outputs": [],
   "source": [
    "def goto_page(driver, start_record_num, dh):\n",
    "    current_record = int(driver.find_element(By.ID, 'Header1_lblRecNum').text)\n",
    "    pages_crossed = 0\n",
    "\n",
    "    while current_record != start_record_num:\n",
    "        if pages_crossed == 30:\n",
    "            pages_crossed = 0\n",
    "            countdown(min=5, max=7, buffer=dh, prefix=f'On page {current_record}.  Sleeping')\n",
    "        pages_crossed += 1\n",
    "        next_page(driver)\n",
    "        current_record = int(driver.find_element(By.ID, 'Header1_lblRecNum').text)\n"
   ]
  },
  {
   "cell_type": "code",
   "execution_count": 83,
   "metadata": {},
   "outputs": [
    {
     "name": "stdout",
     "output_type": "stream",
     "text": [
      "loaded\n"
     ]
    },
    {
     "data": {
      "text/plain": [
       "'On record **90**.  Beginning extraction.'"
      ]
     },
     "metadata": {},
     "output_type": "display_data"
    },
    {
     "data": {
      "text/plain": [
       "'PIN/Address/Owner not found.  Probably got timed out.'"
      ]
     },
     "metadata": {},
     "output_type": "display_data"
    },
    {
     "data": {
      "text/markdown": [
       "Sleeping complete ..."
      ],
      "text/plain": [
       "<IPython.core.display.Markdown object>"
      ]
     },
     "metadata": {},
     "output_type": "display_data"
    },
    {
     "ename": "NoSuchElementException",
     "evalue": "Message: Unable to locate element: [id=\"Header1_lblRecNum\"]; For documentation on this error, please visit: https://www.selenium.dev/documentation/webdriver/troubleshooting/errors#no-such-element-exception\nStacktrace:\nRemoteError@chrome://remote/content/shared/RemoteError.sys.mjs:8:8\nWebDriverError@chrome://remote/content/shared/webdriver/Errors.sys.mjs:193:5\nNoSuchElementError@chrome://remote/content/shared/webdriver/Errors.sys.mjs:511:5\ndom.find/</<@chrome://remote/content/shared/DOM.sys.mjs:136:16\n",
     "output_type": "error",
     "traceback": [
      "\u001b[0;31m---------------------------------------------------------------------------\u001b[0m",
      "\u001b[0;31mNoSuchElementException\u001b[0m                    Traceback (most recent call last)",
      "Cell \u001b[0;32mIn[83], line 34\u001b[0m\n\u001b[1;32m     30\u001b[0m         next_page(driver)\n\u001b[1;32m     32\u001b[0m     \u001b[38;5;28;01mreturn\u001b[39;00m df\n\u001b[0;32m---> 34\u001b[0m df \u001b[38;5;241m=\u001b[39m \u001b[43mALCO_fetch\u001b[49m\u001b[43m(\u001b[49m\u001b[43mstart_record_num\u001b[49m\u001b[38;5;241;43m=\u001b[39;49m\u001b[38;5;241;43m90\u001b[39;49m\u001b[43m)\u001b[49m\n\u001b[1;32m     35\u001b[0m df\n",
      "Cell \u001b[0;32mIn[83], line 24\u001b[0m, in \u001b[0;36mALCO_fetch\u001b[0;34m(muni, start_record_num, num)\u001b[0m\n\u001b[1;32m     21\u001b[0m \u001b[38;5;28;01melse\u001b[39;00m:\n\u001b[1;32m     22\u001b[0m     countdown(\u001b[38;5;28mmin\u001b[39m\u001b[38;5;241m=\u001b[39m\u001b[38;5;241m1\u001b[39m, \u001b[38;5;28mmax\u001b[39m\u001b[38;5;241m=\u001b[39m\u001b[38;5;241m6\u001b[39m, buffer\u001b[38;5;241m=\u001b[39mdh_bot)\n\u001b[0;32m---> 24\u001b[0m data, num \u001b[38;5;241m=\u001b[39m \u001b[43mgrab_page\u001b[49m\u001b[43m(\u001b[49m\u001b[43mdriver\u001b[49m\u001b[43m,\u001b[49m\u001b[43m \u001b[49m\u001b[43mVERBOSE\u001b[49m\u001b[38;5;241;43m=\u001b[39;49m\u001b[43mvb\u001b[49m\u001b[43m,\u001b[49m\u001b[43m \u001b[49m\u001b[43mdh\u001b[49m\u001b[38;5;241;43m=\u001b[39;49m\u001b[43mdh_mid\u001b[49m\u001b[43m)\u001b[49m\n\u001b[1;32m     26\u001b[0m \u001b[38;5;28;01mif\u001b[39;00m df \u001b[38;5;129;01mis\u001b[39;00m \u001b[38;5;28;01mNone\u001b[39;00m:\n\u001b[1;32m     27\u001b[0m     df \u001b[38;5;241m=\u001b[39m pd\u001b[38;5;241m.\u001b[39mDataFrame(data, index\u001b[38;5;241m=\u001b[39m[i])\n",
      "Cell \u001b[0;32mIn[82], line 64\u001b[0m, in \u001b[0;36mgrab_page\u001b[0;34m(driver, VERBOSE, dh)\u001b[0m\n\u001b[1;32m     61\u001b[0m     \u001b[38;5;28;01melse\u001b[39;00m:\n\u001b[1;32m     62\u001b[0m         dh\u001b[38;5;241m.\u001b[39mupdate(\u001b[38;5;124mf\u001b[39m\u001b[38;5;124m'\u001b[39m\u001b[38;5;124mRecord \u001b[39m\u001b[38;5;132;01m{\u001b[39;00mi\u001b[38;5;132;01m}\u001b[39;00m\u001b[38;5;124m:\u001b[39m\u001b[38;5;130;01m\\t\u001b[39;00m\u001b[38;5;132;01m{\u001b[39;00mas_dict[\u001b[38;5;124m'\u001b[39m\u001b[38;5;124mPIN\u001b[39m\u001b[38;5;124m'\u001b[39m]\u001b[38;5;132;01m}\u001b[39;00m\u001b[38;5;124m'\u001b[39m)\n\u001b[0;32m---> 64\u001b[0m record_number \u001b[38;5;241m=\u001b[39m \u001b[38;5;28mint\u001b[39m(\u001b[43mdriver\u001b[49m\u001b[38;5;241;43m.\u001b[39;49m\u001b[43mfind_element\u001b[49m\u001b[43m(\u001b[49m\u001b[43mBy\u001b[49m\u001b[38;5;241;43m.\u001b[39;49m\u001b[43mID\u001b[49m\u001b[43m,\u001b[49m\u001b[43m \u001b[49m\u001b[38;5;124;43m'\u001b[39;49m\u001b[38;5;124;43mHeader1_lblRecNum\u001b[39;49m\u001b[38;5;124;43m'\u001b[39;49m\u001b[43m)\u001b[49m\u001b[38;5;241m.\u001b[39mtext)\n\u001b[1;32m     66\u001b[0m \u001b[38;5;28;01mreturn\u001b[39;00m as_dict, record_number\n",
      "File \u001b[0;32m~/projects/data-science/venv/lib/python3.12/site-packages/selenium/webdriver/remote/webdriver.py:770\u001b[0m, in \u001b[0;36mWebDriver.find_element\u001b[0;34m(self, by, value)\u001b[0m\n\u001b[1;32m    767\u001b[0m         \u001b[38;5;28;01mraise\u001b[39;00m NoSuchElementException(\u001b[38;5;124mf\u001b[39m\u001b[38;5;124m\"\u001b[39m\u001b[38;5;124mCannot locate relative element with: \u001b[39m\u001b[38;5;132;01m{\u001b[39;00mby\u001b[38;5;241m.\u001b[39mroot\u001b[38;5;132;01m}\u001b[39;00m\u001b[38;5;124m\"\u001b[39m)\n\u001b[1;32m    768\u001b[0m     \u001b[38;5;28;01mreturn\u001b[39;00m elements[\u001b[38;5;241m0\u001b[39m]\n\u001b[0;32m--> 770\u001b[0m \u001b[38;5;28;01mreturn\u001b[39;00m \u001b[38;5;28;43mself\u001b[39;49m\u001b[38;5;241;43m.\u001b[39;49m\u001b[43mexecute\u001b[49m\u001b[43m(\u001b[49m\u001b[43mCommand\u001b[49m\u001b[38;5;241;43m.\u001b[39;49m\u001b[43mFIND_ELEMENT\u001b[49m\u001b[43m,\u001b[49m\u001b[43m \u001b[49m\u001b[43m{\u001b[49m\u001b[38;5;124;43m\"\u001b[39;49m\u001b[38;5;124;43musing\u001b[39;49m\u001b[38;5;124;43m\"\u001b[39;49m\u001b[43m:\u001b[49m\u001b[43m \u001b[49m\u001b[43mby\u001b[49m\u001b[43m,\u001b[49m\u001b[43m \u001b[49m\u001b[38;5;124;43m\"\u001b[39;49m\u001b[38;5;124;43mvalue\u001b[39;49m\u001b[38;5;124;43m\"\u001b[39;49m\u001b[43m:\u001b[49m\u001b[43m \u001b[49m\u001b[43mvalue\u001b[49m\u001b[43m}\u001b[49m\u001b[43m)\u001b[49m[\u001b[38;5;124m\"\u001b[39m\u001b[38;5;124mvalue\u001b[39m\u001b[38;5;124m\"\u001b[39m]\n",
      "File \u001b[0;32m~/projects/data-science/venv/lib/python3.12/site-packages/selenium/webdriver/remote/webdriver.py:384\u001b[0m, in \u001b[0;36mWebDriver.execute\u001b[0;34m(self, driver_command, params)\u001b[0m\n\u001b[1;32m    382\u001b[0m response \u001b[38;5;241m=\u001b[39m \u001b[38;5;28mself\u001b[39m\u001b[38;5;241m.\u001b[39mcommand_executor\u001b[38;5;241m.\u001b[39mexecute(driver_command, params)\n\u001b[1;32m    383\u001b[0m \u001b[38;5;28;01mif\u001b[39;00m response:\n\u001b[0;32m--> 384\u001b[0m     \u001b[38;5;28;43mself\u001b[39;49m\u001b[38;5;241;43m.\u001b[39;49m\u001b[43merror_handler\u001b[49m\u001b[38;5;241;43m.\u001b[39;49m\u001b[43mcheck_response\u001b[49m\u001b[43m(\u001b[49m\u001b[43mresponse\u001b[49m\u001b[43m)\u001b[49m\n\u001b[1;32m    385\u001b[0m     response[\u001b[38;5;124m\"\u001b[39m\u001b[38;5;124mvalue\u001b[39m\u001b[38;5;124m\"\u001b[39m] \u001b[38;5;241m=\u001b[39m \u001b[38;5;28mself\u001b[39m\u001b[38;5;241m.\u001b[39m_unwrap_value(response\u001b[38;5;241m.\u001b[39mget(\u001b[38;5;124m\"\u001b[39m\u001b[38;5;124mvalue\u001b[39m\u001b[38;5;124m\"\u001b[39m, \u001b[38;5;28;01mNone\u001b[39;00m))\n\u001b[1;32m    386\u001b[0m     \u001b[38;5;28;01mreturn\u001b[39;00m response\n",
      "File \u001b[0;32m~/projects/data-science/venv/lib/python3.12/site-packages/selenium/webdriver/remote/errorhandler.py:232\u001b[0m, in \u001b[0;36mErrorHandler.check_response\u001b[0;34m(self, response)\u001b[0m\n\u001b[1;32m    230\u001b[0m         alert_text \u001b[38;5;241m=\u001b[39m value[\u001b[38;5;124m\"\u001b[39m\u001b[38;5;124malert\u001b[39m\u001b[38;5;124m\"\u001b[39m]\u001b[38;5;241m.\u001b[39mget(\u001b[38;5;124m\"\u001b[39m\u001b[38;5;124mtext\u001b[39m\u001b[38;5;124m\"\u001b[39m)\n\u001b[1;32m    231\u001b[0m     \u001b[38;5;28;01mraise\u001b[39;00m exception_class(message, screen, stacktrace, alert_text)  \u001b[38;5;66;03m# type: ignore[call-arg]  # mypy is not smart enough here\u001b[39;00m\n\u001b[0;32m--> 232\u001b[0m \u001b[38;5;28;01mraise\u001b[39;00m exception_class(message, screen, stacktrace)\n",
      "\u001b[0;31mNoSuchElementException\u001b[0m: Message: Unable to locate element: [id=\"Header1_lblRecNum\"]; For documentation on this error, please visit: https://www.selenium.dev/documentation/webdriver/troubleshooting/errors#no-such-element-exception\nStacktrace:\nRemoteError@chrome://remote/content/shared/RemoteError.sys.mjs:8:8\nWebDriverError@chrome://remote/content/shared/webdriver/Errors.sys.mjs:193:5\nNoSuchElementError@chrome://remote/content/shared/webdriver/Errors.sys.mjs:511:5\ndom.find/</<@chrome://remote/content/shared/DOM.sys.mjs:136:16\n"
     ]
    }
   ],
   "source": [
    "def ALCO_fetch(muni='Bethel Park', start_record_num=1, num=30):\n",
    "    driver = get_driver()\n",
    "    setup_page(driver)\n",
    "    address_search(driver, selectm=muni)\n",
    "    dh_top, dh_mid, dh_bot = get_display_handles()\n",
    "\n",
    "    #  Handle data\n",
    "    i = 0\n",
    "    max_records = 30  # int(driver.find_element(By.ID, 'Header1_lblTotRec').text)\n",
    "    record_nos = range(max_records)\n",
    "    current_record = int(driver.find_element(By.ID, 'Header1_lblRecNum').text)\n",
    "    df = None\n",
    "    if current_record != start_record_num:\n",
    "        goto_page(driver, start_record_num, dh_bot)\n",
    "    current_record = int(driver.find_element(By.ID, 'Header1_lblRecNum').text)\n",
    "    dh_top.update(f'On record **{current_record}**.  Beginning extraction.')\n",
    "    for i in record_nos:\n",
    "        vb = (i % 10) == 0\n",
    "        if vb:\n",
    "            countdown(min=5, max=30, buffer=dh_bot)\n",
    "        else:\n",
    "            countdown(min=1, max=6, buffer=dh_bot)\n",
    "\n",
    "        data, num = grab_page(driver, VERBOSE=vb, dh=dh_mid)\n",
    "\n",
    "        if df is None:\n",
    "            df = pd.DataFrame(data, index=[i])\n",
    "        else:\n",
    "            df = pd.concat([df, pd.DataFrame(data, index=[i])])\n",
    "        next_page(driver)\n",
    "\n",
    "    return df\n",
    "\n",
    "df = ALCO_fetch(start_record_num=90)\n",
    "df"
   ]
  },
  {
   "cell_type": "code",
   "execution_count": 71,
   "metadata": {},
   "outputs": [],
   "source": [
    "first_df = df.copy()"
   ]
  },
  {
   "cell_type": "code",
   "execution_count": null,
   "metadata": {},
   "outputs": [
    {
     "ename": "NoSuchElementException",
     "evalue": "Message: Unable to locate element: [id=\"txtParcelID5\"]; For documentation on this error, please visit: https://www.selenium.dev/documentation/webdriver/troubleshooting/errors#no-such-element-exception\nStacktrace:\nRemoteError@chrome://remote/content/shared/RemoteError.sys.mjs:8:8\nWebDriverError@chrome://remote/content/shared/webdriver/Errors.sys.mjs:193:5\nNoSuchElementError@chrome://remote/content/shared/webdriver/Errors.sys.mjs:511:5\ndom.find/</<@chrome://remote/content/shared/DOM.sys.mjs:136:16\n",
     "output_type": "error",
     "traceback": [
      "\u001b[0;31m---------------------------------------------------------------------------\u001b[0m",
      "\u001b[0;31mNoSuchElementException\u001b[0m                    Traceback (most recent call last)",
      "Cell \u001b[0;32mIn[57], line 2\u001b[0m\n\u001b[1;32m      1\u001b[0m \u001b[38;5;66;03m# enter 0 in fifth parcel id textbox\u001b[39;00m\n\u001b[0;32m----> 2\u001b[0m textbox5 \u001b[38;5;241m=\u001b[39m \u001b[43mdriver\u001b[49m\u001b[38;5;241;43m.\u001b[39;49m\u001b[43mfind_element\u001b[49m\u001b[43m(\u001b[49m\u001b[43mBy\u001b[49m\u001b[38;5;241;43m.\u001b[39;49m\u001b[43mID\u001b[49m\u001b[43m,\u001b[49m\u001b[43m \u001b[49m\u001b[38;5;124;43m'\u001b[39;49m\u001b[38;5;124;43mtxtParcelID5\u001b[39;49m\u001b[38;5;124;43m'\u001b[39;49m\u001b[43m)\u001b[49m\n\u001b[1;32m      3\u001b[0m textbox5\u001b[38;5;241m.\u001b[39msend_keys(\u001b[38;5;124m'\u001b[39m\u001b[38;5;124m0\u001b[39m\u001b[38;5;124m'\u001b[39m)\n",
      "File \u001b[0;32m~/projects/data-science/venv/lib/python3.12/site-packages/selenium/webdriver/remote/webdriver.py:770\u001b[0m, in \u001b[0;36mWebDriver.find_element\u001b[0;34m(self, by, value)\u001b[0m\n\u001b[1;32m    767\u001b[0m         \u001b[38;5;28;01mraise\u001b[39;00m NoSuchElementException(\u001b[38;5;124mf\u001b[39m\u001b[38;5;124m\"\u001b[39m\u001b[38;5;124mCannot locate relative element with: \u001b[39m\u001b[38;5;132;01m{\u001b[39;00mby\u001b[38;5;241m.\u001b[39mroot\u001b[38;5;132;01m}\u001b[39;00m\u001b[38;5;124m\"\u001b[39m)\n\u001b[1;32m    768\u001b[0m     \u001b[38;5;28;01mreturn\u001b[39;00m elements[\u001b[38;5;241m0\u001b[39m]\n\u001b[0;32m--> 770\u001b[0m \u001b[38;5;28;01mreturn\u001b[39;00m \u001b[38;5;28;43mself\u001b[39;49m\u001b[38;5;241;43m.\u001b[39;49m\u001b[43mexecute\u001b[49m\u001b[43m(\u001b[49m\u001b[43mCommand\u001b[49m\u001b[38;5;241;43m.\u001b[39;49m\u001b[43mFIND_ELEMENT\u001b[49m\u001b[43m,\u001b[49m\u001b[43m \u001b[49m\u001b[43m{\u001b[49m\u001b[38;5;124;43m\"\u001b[39;49m\u001b[38;5;124;43musing\u001b[39;49m\u001b[38;5;124;43m\"\u001b[39;49m\u001b[43m:\u001b[49m\u001b[43m \u001b[49m\u001b[43mby\u001b[49m\u001b[43m,\u001b[49m\u001b[43m \u001b[49m\u001b[38;5;124;43m\"\u001b[39;49m\u001b[38;5;124;43mvalue\u001b[39;49m\u001b[38;5;124;43m\"\u001b[39;49m\u001b[43m:\u001b[49m\u001b[43m \u001b[49m\u001b[43mvalue\u001b[49m\u001b[43m}\u001b[49m\u001b[43m)\u001b[49m[\u001b[38;5;124m\"\u001b[39m\u001b[38;5;124mvalue\u001b[39m\u001b[38;5;124m\"\u001b[39m]\n",
      "File \u001b[0;32m~/projects/data-science/venv/lib/python3.12/site-packages/selenium/webdriver/remote/webdriver.py:384\u001b[0m, in \u001b[0;36mWebDriver.execute\u001b[0;34m(self, driver_command, params)\u001b[0m\n\u001b[1;32m    382\u001b[0m response \u001b[38;5;241m=\u001b[39m \u001b[38;5;28mself\u001b[39m\u001b[38;5;241m.\u001b[39mcommand_executor\u001b[38;5;241m.\u001b[39mexecute(driver_command, params)\n\u001b[1;32m    383\u001b[0m \u001b[38;5;28;01mif\u001b[39;00m response:\n\u001b[0;32m--> 384\u001b[0m     \u001b[38;5;28;43mself\u001b[39;49m\u001b[38;5;241;43m.\u001b[39;49m\u001b[43merror_handler\u001b[49m\u001b[38;5;241;43m.\u001b[39;49m\u001b[43mcheck_response\u001b[49m\u001b[43m(\u001b[49m\u001b[43mresponse\u001b[49m\u001b[43m)\u001b[49m\n\u001b[1;32m    385\u001b[0m     response[\u001b[38;5;124m\"\u001b[39m\u001b[38;5;124mvalue\u001b[39m\u001b[38;5;124m\"\u001b[39m] \u001b[38;5;241m=\u001b[39m \u001b[38;5;28mself\u001b[39m\u001b[38;5;241m.\u001b[39m_unwrap_value(response\u001b[38;5;241m.\u001b[39mget(\u001b[38;5;124m\"\u001b[39m\u001b[38;5;124mvalue\u001b[39m\u001b[38;5;124m\"\u001b[39m, \u001b[38;5;28;01mNone\u001b[39;00m))\n\u001b[1;32m    386\u001b[0m     \u001b[38;5;28;01mreturn\u001b[39;00m response\n",
      "File \u001b[0;32m~/projects/data-science/venv/lib/python3.12/site-packages/selenium/webdriver/remote/errorhandler.py:232\u001b[0m, in \u001b[0;36mErrorHandler.check_response\u001b[0;34m(self, response)\u001b[0m\n\u001b[1;32m    230\u001b[0m         alert_text \u001b[38;5;241m=\u001b[39m value[\u001b[38;5;124m\"\u001b[39m\u001b[38;5;124malert\u001b[39m\u001b[38;5;124m\"\u001b[39m]\u001b[38;5;241m.\u001b[39mget(\u001b[38;5;124m\"\u001b[39m\u001b[38;5;124mtext\u001b[39m\u001b[38;5;124m\"\u001b[39m)\n\u001b[1;32m    231\u001b[0m     \u001b[38;5;28;01mraise\u001b[39;00m exception_class(message, screen, stacktrace, alert_text)  \u001b[38;5;66;03m# type: ignore[call-arg]  # mypy is not smart enough here\u001b[39;00m\n\u001b[0;32m--> 232\u001b[0m \u001b[38;5;28;01mraise\u001b[39;00m exception_class(message, screen, stacktrace)\n",
      "\u001b[0;31mNoSuchElementException\u001b[0m: Message: Unable to locate element: [id=\"txtParcelID5\"]; For documentation on this error, please visit: https://www.selenium.dev/documentation/webdriver/troubleshooting/errors#no-such-element-exception\nStacktrace:\nRemoteError@chrome://remote/content/shared/RemoteError.sys.mjs:8:8\nWebDriverError@chrome://remote/content/shared/webdriver/Errors.sys.mjs:193:5\nNoSuchElementError@chrome://remote/content/shared/webdriver/Errors.sys.mjs:511:5\ndom.find/</<@chrome://remote/content/shared/DOM.sys.mjs:136:16\n"
     ]
    }
   ],
   "source": [
    "# enter 0 in fifth parcel id textbox\n",
    "textbox5 = driver.find_element(By.ID, 'txtParcelID5')\n",
    "textbox5.send_keys('0')"
   ]
  },
  {
   "cell_type": "code",
   "execution_count": null,
   "metadata": {},
   "outputs": [],
   "source": [
    "btn_search = driver.find_element(By.ID, 'btnSearch')\n",
    "btn_search.click()\n",
    "sleep(3)"
   ]
  },
  {
   "cell_type": "code",
   "execution_count": null,
   "metadata": {},
   "outputs": [],
   "source": []
  },
  {
   "cell_type": "code",
   "execution_count": null,
   "metadata": {},
   "outputs": [
    {
     "name": "stdout",
     "output_type": "stream",
     "text": [
      "loaded\n"
     ]
    }
   ],
   "source": [
    "pager = None\n",
    "while pager is None:\n",
    "    try:\n",
    "        pager = driver.find_element(By.ID, 'pnlPageNums')\n",
    "    except Exception as e:\n",
    "        pager = None\n",
    "    driver.find_element(By.ID, 'btnSearch').click()\n",
    "    sleep(10)\n",
    "\n",
    "print('loaded')"
   ]
  },
  {
   "cell_type": "code",
   "execution_count": null,
   "metadata": {},
   "outputs": [
    {
     "data": {
      "text/plain": [
       "'0001-A-00100-0000-00'"
      ]
     },
     "execution_count": 40,
     "metadata": {},
     "output_type": "execute_result"
    }
   ],
   "source": [
    "link = driver.find_element(By.XPATH, '//table[@id=\"dgSearchResults\"]//tr[2]/td/a')\n",
    "link.text"
   ]
  },
  {
   "cell_type": "code",
   "execution_count": 147,
   "metadata": {},
   "outputs": [],
   "source": [
    "driver = get_driver()"
   ]
  },
  {
   "cell_type": "code",
   "execution_count": 148,
   "metadata": {},
   "outputs": [
    {
     "name": "stdout",
     "output_type": "stream",
     "text": [
      "None\n",
      "javascript:changeYear(2024, 5, 'a1')\n",
      "javascript:changeYear(2023, 5, 'a2')\n",
      "javascript:changeYear(2022, 5,'anchYearDD3')\n",
      "javascript:changeYear(2021, 5,'anchYearDD4')\n",
      "javascript:changeYear(2020, 5,'anchYearDD5')\n",
      "javascript:changeYear(2019, 5,'anchYearDD6')\n",
      "javascript:changeYear(2018, 5,'anchYearDD7')\n",
      "javascript:changeYear(2017, 5,'anchYearDD8')\n",
      "javascript:changeYear(2016, 5,'anchYearDD9')\n",
      "javascript:changeYear(2015, 5,'anchYearDD10')\n",
      "javascript:changeYear(2014, 5,'anchYearDD11')\n",
      "[<selenium.webdriver.remote.webelement.WebElement (session=\"4a1d16a6-3a95-4e62-9cd8-d62b364bdc45\", element=\"3a38a124-86ed-4852-adeb-68702c4af2f3\")>, <selenium.webdriver.remote.webelement.WebElement (session=\"4a1d16a6-3a95-4e62-9cd8-d62b364bdc45\", element=\"2a0c3192-426a-4d18-bf05-6fad251e93f3\")>, <selenium.webdriver.remote.webelement.WebElement (session=\"4a1d16a6-3a95-4e62-9cd8-d62b364bdc45\", element=\"fc89e065-c7ad-4ceb-86a4-bf98ea0dc3dd\")>, <selenium.webdriver.remote.webelement.WebElement (session=\"4a1d16a6-3a95-4e62-9cd8-d62b364bdc45\", element=\"5eb68920-5d36-4803-b959-1243a68e571f\")>, <selenium.webdriver.remote.webelement.WebElement (session=\"4a1d16a6-3a95-4e62-9cd8-d62b364bdc45\", element=\"af1cafaa-8861-4a08-a7a3-558629dbbd37\")>, <selenium.webdriver.remote.webelement.WebElement (session=\"4a1d16a6-3a95-4e62-9cd8-d62b364bdc45\", element=\"12ce044f-49f1-4573-8b8f-aef18ddb12b8\")>, <selenium.webdriver.remote.webelement.WebElement (session=\"4a1d16a6-3a95-4e62-9cd8-d62b364bdc45\", element=\"ba6be2e1-99d2-458d-9191-7d1b2dc26c02\")>, <selenium.webdriver.remote.webelement.WebElement (session=\"4a1d16a6-3a95-4e62-9cd8-d62b364bdc45\", element=\"590db8f2-fb6b-458c-9d3d-12b34a078e47\")>, <selenium.webdriver.remote.webelement.WebElement (session=\"4a1d16a6-3a95-4e62-9cd8-d62b364bdc45\", element=\"6465a158-3070-407e-a02d-c1f525ee1aa6\")>, <selenium.webdriver.remote.webelement.WebElement (session=\"4a1d16a6-3a95-4e62-9cd8-d62b364bdc45\", element=\"dde88009-9b49-4fdb-899d-c5792ca2fd4d\")>, <selenium.webdriver.remote.webelement.WebElement (session=\"4a1d16a6-3a95-4e62-9cd8-d62b364bdc45\", element=\"24a17ab6-58b4-43a6-988f-a1a5b157cabd\")>, <selenium.webdriver.remote.webelement.WebElement (session=\"4a1d16a6-3a95-4e62-9cd8-d62b364bdc45\", element=\"b360ee2f-3031-4427-8e77-b96ffab122ad\")>]\n"
     ]
    }
   ],
   "source": [
    "tabs = driver.find_elements(By.XPATH, '//a[@role=\"tab\"]')\n",
    "for tab in tabs:\n",
    "    print(tab.get_attribute('href'))\n",
    "print(tabs)"
   ]
  },
  {
   "cell_type": "code",
   "execution_count": null,
   "metadata": {},
   "outputs": [
    {
     "name": "stdout",
     "output_type": "stream",
     "text": [
      "[]\n"
     ]
    }
   ],
   "source": [
    "from selenium.common.exceptions import NoSuchElementException\n",
    "\n",
    "driver = get_driver()\n",
    "\n",
    "tabs = driver.find_elements(By.XPATH, '//a[@role=\"tab\"]')\n",
    "for tab in tabs:\n",
    "    print(tab.get_attribute('href'))\n",
    "print(tabs)\n",
    "\n",
    "df = None\n",
    "def record_data(df_in):\n",
    "    if type(df_in) is list:\n",
    "        if len(df_in) == 1:\n",
    "            df_in = df_in[0].dropna(subset=('Permit No'), axis='rows', how='any').set_index=('Permit No')\n",
    "        else:\n",
    "            d = df_in[0].dropna(subset=('Permit No'), axis='rows', how='any').set_index('Permit No')\n",
    "            for dfi in df_in[1:]:\n",
    "                dfi = dfi.dropna(subset=('Permit No'), axis='rows', how='any').set_index=('Permit No')\n",
    "                d = pd.concat([d, dfi])\n",
    "            df_in = d\n",
    "\n",
    "    if df is None:\n",
    "        df = df_in.copy()\n",
    "    else:\n",
    "        pd.concat([df, df_in])\n",
    "\n",
    "#print(tabs)\n",
    "years =['2023', '2024']\n",
    "for idx in reversed(range(len(tabs))):\n",
    "    if tabs[idx].text in years:\n",
    "        print(tabs[idx].text)\n",
    "        print(len(tabs[idx].text))\n",
    "        tabs[idx].click()\n",
    "        links = driver.find_elements(By.XPATH, '//td/p/a')\n",
    "\n",
    "        for link in links:\n",
    "            link.click()\n",
    "            driver.switch_to.window(driver.window_handles[-1])\n",
    "            try:\n",
    "                link_to_pdf = driver.find_element(By.XPATH, '//li/a[contains(text(), \"Building Permit Details\")]').click()\n",
    "            except NoSuchElementException:\n",
    "                break\n",
    "            pdf_table_df = tabula.io.read_pdf(link_to_pdf, pages='all')\n",
    "\n",
    "            record_data(pdf_table_df)\n",
    "            \n",
    "\n"
   ]
  },
  {
   "cell_type": "code",
   "execution_count": 119,
   "metadata": {},
   "outputs": [
    {
     "name": "stdout",
     "output_type": "stream",
     "text": [
      "[]\n",
      "TABS:\n",
      " [] \n",
      "\n",
      "\n"
     ]
    }
   ],
   "source": [
    "driver = get_driver()\n",
    "tabs = driver.find_elements(By.XPATH, '//a[@role=\"tab\"]')\n",
    "print(tabs)\n",
    "print('TABS:\\n',tabs,'\\n\\n')\n",
    "original_window = driver.current_window_handle\n",
    "for idx in reversed(range(len(tabs))):\n",
    "    t = driver.find_element(By.XPATH, '//a[@role=\"tab\"]')\n",
    "    print(t[idx].text)\n",
    "    if t[idx].text.find('2024') != -1:\n",
    "        print('found 2025 in', t[idx].text)\n",
    "        print(t[idx])\n",
    "        t[idx].click()\n",
    "        for link in driver.find_elements(By.XPATH, '//td/p/a'):\n",
    "            link.click()\n",
    "            \n",
    "\n"
   ]
  },
  {
   "cell_type": "code",
   "execution_count": 61,
   "metadata": {},
   "outputs": [
    {
     "data": {
      "text/plain": [
       "'January 8, 2025 Board of Commissioners Combined Workshop/Voting Meeting'"
      ]
     },
     "execution_count": 61,
     "metadata": {},
     "output_type": "execute_result"
    }
   ],
   "source": [
    "driver.find_elements(By.XPATH, '//td/p/a')[0].text"
   ]
  },
  {
   "cell_type": "code",
   "execution_count": 63,
   "metadata": {},
   "outputs": [],
   "source": [
    "original_window = driver.current_window_handle"
   ]
  },
  {
   "cell_type": "code",
   "execution_count": 65,
   "metadata": {},
   "outputs": [],
   "source": [
    "driver.switch_to.window(driver.window_handles[-1])"
   ]
  },
  {
   "cell_type": "code",
   "execution_count": 75,
   "metadata": {},
   "outputs": [],
   "source": [
    "driver.find_element(By.XPATH, '//li/a[contains(text(), \"Building Permit Details\")]').click()"
   ]
  },
  {
   "cell_type": "code",
   "execution_count": 76,
   "metadata": {},
   "outputs": [],
   "source": [
    "driver.switch_to.window(driver.window_handles[-1])"
   ]
  },
  {
   "cell_type": "code",
   "execution_count": 109,
   "metadata": {},
   "outputs": [],
   "source": [
    "import tabula.io\n",
    "tab_df = tabula.io.read_pdf(driver.current_url, pages='all')"
   ]
  },
  {
   "cell_type": "code",
   "execution_count": 144,
   "metadata": {},
   "outputs": [
    {
     "data": {
      "text/html": [
       "<div>\n",
       "<style scoped>\n",
       "    .dataframe tbody tr th:only-of-type {\n",
       "        vertical-align: middle;\n",
       "    }\n",
       "\n",
       "    .dataframe tbody tr th {\n",
       "        vertical-align: top;\n",
       "    }\n",
       "\n",
       "    .dataframe thead th {\n",
       "        text-align: right;\n",
       "    }\n",
       "</style>\n",
       "<table border=\"1\" class=\"dataframe\">\n",
       "  <thead>\n",
       "    <tr style=\"text-align: right;\">\n",
       "      <th></th>\n",
       "      <th>Date</th>\n",
       "      <th>Tax ID Owner Name</th>\n",
       "      <th>Unnamed: 0</th>\n",
       "      <th>Property Address</th>\n",
       "      <th>Category/Type</th>\n",
       "      <th>Estimated Cost</th>\n",
       "      <th>Fee</th>\n",
       "      <th>Memo</th>\n",
       "    </tr>\n",
       "    <tr>\n",
       "      <th>Permit No</th>\n",
       "      <th></th>\n",
       "      <th></th>\n",
       "      <th></th>\n",
       "      <th></th>\n",
       "      <th></th>\n",
       "      <th></th>\n",
       "      <th></th>\n",
       "      <th></th>\n",
       "    </tr>\n",
       "  </thead>\n",
       "  <tbody>\n",
       "    <tr>\n",
       "      <th>2024-336</th>\n",
       "      <td>12/04/2024</td>\n",
       "      <td>TEMP-HAST-504  CHARTER HOMES</td>\n",
       "      <td>NaN</td>\n",
       "      <td>4015 WINDSFIELD WAY</td>\n",
       "      <td>SINGLE FAMILY</td>\n",
       "      <td>$264,000.00</td>\n",
       "      <td>$1,117.50</td>\n",
       "      <td>NEW HOME - ELEVATION 20</td>\n",
       "    </tr>\n",
       "    <tr>\n",
       "      <th>2024-337</th>\n",
       "      <td>12/04/2024</td>\n",
       "      <td>403-A-7 CHASE &amp; MARTINIQUE JOHNSON</td>\n",
       "      <td>NaN</td>\n",
       "      <td>4211 BATTLE RIDGE RD</td>\n",
       "      <td>SINGLE FAMILY</td>\n",
       "      <td>$40,000.00</td>\n",
       "      <td>$80.00</td>\n",
       "      <td>DETACHED GARAGE</td>\n",
       "    </tr>\n",
       "    <tr>\n",
       "      <th>2024-338</th>\n",
       "      <td>12/05/2024</td>\n",
       "      <td>489-R-12  RYAN HOMES</td>\n",
       "      <td>NaN</td>\n",
       "      <td>4503 BRANDYWINE CIR</td>\n",
       "      <td>SINGLE FAMILY</td>\n",
       "      <td>$2,150.00</td>\n",
       "      <td>$40.00</td>\n",
       "      <td>SHED</td>\n",
       "    </tr>\n",
       "    <tr>\n",
       "      <th>2024-339</th>\n",
       "      <td>12/11/2024</td>\n",
       "      <td>TEMP-HAST-583  CHARTER HOMES</td>\n",
       "      <td>NaN</td>\n",
       "      <td>4038 WINDSFIELD WAY</td>\n",
       "      <td>SINGLE FAMILY</td>\n",
       "      <td>$224,400.00</td>\n",
       "      <td>$933.00</td>\n",
       "      <td>NEW HOME - ELEVATION 20</td>\n",
       "    </tr>\n",
       "    <tr>\n",
       "      <th>2024-340</th>\n",
       "      <td>12/11/2024</td>\n",
       "      <td>480-R-404  CHARTER HOMES</td>\n",
       "      <td>NaN</td>\n",
       "      <td>1683 HASTINGS PARK DR</td>\n",
       "      <td>SINGLE FAMILY</td>\n",
       "      <td>$40,000.00</td>\n",
       "      <td>$136.00</td>\n",
       "      <td>ROOF &amp; DECK</td>\n",
       "    </tr>\n",
       "    <tr>\n",
       "      <th>2024-341</th>\n",
       "      <td>12/12/2024</td>\n",
       "      <td>405-E-108  FOXLANE HOMES OF STONEGATE LLC</td>\n",
       "      <td>NaN</td>\n",
       "      <td>1021 STONEGATE DR</td>\n",
       "      <td>SINGLE FAMILY</td>\n",
       "      <td>$305,000.00</td>\n",
       "      <td>$1,503.25</td>\n",
       "      <td>NEW HOME - CHARLESTON</td>\n",
       "    </tr>\n",
       "    <tr>\n",
       "      <th>2024-342</th>\n",
       "      <td>12/16/2024</td>\n",
       "      <td>322-E-11 WASHINGTON PIKE LLC 3049</td>\n",
       "      <td>NaN</td>\n",
       "      <td>3049 WASHINGTON PKE</td>\n",
       "      <td>SINGLE FAMILY</td>\n",
       "      <td>$25,000.00</td>\n",
       "      <td>$250.00</td>\n",
       "      <td>SIGN</td>\n",
       "    </tr>\n",
       "    <tr>\n",
       "      <th>2024-343</th>\n",
       "      <td>12/16/2024</td>\n",
       "      <td>484-A-4 DANNEEN R CELLONE</td>\n",
       "      <td>NaN</td>\n",
       "      <td>804 MILLERS RUN RD</td>\n",
       "      <td>COMMERCIAL</td>\n",
       "      <td>$500.00</td>\n",
       "      <td>$50.00</td>\n",
       "      <td>SIGN INSTALLATION</td>\n",
       "    </tr>\n",
       "    <tr>\n",
       "      <th>2024-344</th>\n",
       "      <td>12/18/2024</td>\n",
       "      <td>405-E-110 KAELON C EGAN</td>\n",
       "      <td>NaN</td>\n",
       "      <td>1027 STONEGATE DR</td>\n",
       "      <td>SINGLE FAMILY</td>\n",
       "      <td>$3,000.00</td>\n",
       "      <td>$40.00</td>\n",
       "      <td>SHED</td>\n",
       "    </tr>\n",
       "    <tr>\n",
       "      <th>2024-345</th>\n",
       "      <td>12/18/2024</td>\n",
       "      <td>325-N-10 ROBERT L MARIANI</td>\n",
       "      <td>NaN</td>\n",
       "      <td>673 MILLERS RUN RD</td>\n",
       "      <td>COMMERCIAL</td>\n",
       "      <td>$20,000.00</td>\n",
       "      <td>$468.00</td>\n",
       "      <td>DEMOLITION</td>\n",
       "    </tr>\n",
       "    <tr>\n",
       "      <th>2024-346</th>\n",
       "      <td>12/20/2024</td>\n",
       "      <td>580-M-1 DUSTIN LEE ANDREIS</td>\n",
       "      <td>NaN</td>\n",
       "      <td>980 CECIL-REISSING RD</td>\n",
       "      <td>SINGLE FAMILY</td>\n",
       "      <td>$30,000.00</td>\n",
       "      <td>$80.00</td>\n",
       "      <td>DETACHED GARAGE</td>\n",
       "    </tr>\n",
       "    <tr>\n",
       "      <th>2024-347</th>\n",
       "      <td>12/23/2024</td>\n",
       "      <td>404-F-251 VINOD SADU</td>\n",
       "      <td>NaN</td>\n",
       "      <td>6442 INTERLAKEN DR</td>\n",
       "      <td>SINGLE FAMILY</td>\n",
       "      <td>$50,000.00</td>\n",
       "      <td>$343.00</td>\n",
       "      <td>ADDITION &amp; DECK</td>\n",
       "    </tr>\n",
       "    <tr>\n",
       "      <th>2024-348</th>\n",
       "      <td>12/23/2024</td>\n",
       "      <td>489-P-7 MOHINDAR AMARNATH MOVVALA</td>\n",
       "      <td>NaN</td>\n",
       "      <td>4450 REVOLUTION CIR</td>\n",
       "      <td>SINGLE FAMILY</td>\n",
       "      <td>$5,000.00</td>\n",
       "      <td>$40.00</td>\n",
       "      <td>SHED - 10 X 12</td>\n",
       "    </tr>\n",
       "    <tr>\n",
       "      <th>2024-349</th>\n",
       "      <td>12/23/2024</td>\n",
       "      <td>259-R-14 KRISTEN TEETER</td>\n",
       "      <td>NaN</td>\n",
       "      <td>5050 THOMS RUN RD</td>\n",
       "      <td>SINGLE FAMILY</td>\n",
       "      <td>$2,000.00</td>\n",
       "      <td>$40.00</td>\n",
       "      <td>CARPORT</td>\n",
       "    </tr>\n",
       "  </tbody>\n",
       "</table>\n",
       "</div>"
      ],
      "text/plain": [
       "                 Date                          Tax ID Owner Name  Unnamed: 0  \\\n",
       "Permit No                                                                      \n",
       "2024-336   12/04/2024               TEMP-HAST-504  CHARTER HOMES         NaN   \n",
       "2024-337   12/04/2024         403-A-7 CHASE & MARTINIQUE JOHNSON         NaN   \n",
       "2024-338   12/05/2024                       489-R-12  RYAN HOMES         NaN   \n",
       "2024-339   12/11/2024               TEMP-HAST-583  CHARTER HOMES         NaN   \n",
       "2024-340   12/11/2024                   480-R-404  CHARTER HOMES         NaN   \n",
       "2024-341   12/12/2024  405-E-108  FOXLANE HOMES OF STONEGATE LLC         NaN   \n",
       "2024-342   12/16/2024          322-E-11 WASHINGTON PIKE LLC 3049         NaN   \n",
       "2024-343   12/16/2024                  484-A-4 DANNEEN R CELLONE         NaN   \n",
       "2024-344   12/18/2024                    405-E-110 KAELON C EGAN         NaN   \n",
       "2024-345   12/18/2024                  325-N-10 ROBERT L MARIANI         NaN   \n",
       "2024-346   12/20/2024                 580-M-1 DUSTIN LEE ANDREIS         NaN   \n",
       "2024-347   12/23/2024                       404-F-251 VINOD SADU         NaN   \n",
       "2024-348   12/23/2024          489-P-7 MOHINDAR AMARNATH MOVVALA         NaN   \n",
       "2024-349   12/23/2024                    259-R-14 KRISTEN TEETER         NaN   \n",
       "\n",
       "                Property Address  Category/Type Estimated Cost        Fee  \\\n",
       "Permit No                                                                   \n",
       "2024-336     4015 WINDSFIELD WAY  SINGLE FAMILY    $264,000.00  $1,117.50   \n",
       "2024-337    4211 BATTLE RIDGE RD  SINGLE FAMILY     $40,000.00     $80.00   \n",
       "2024-338     4503 BRANDYWINE CIR  SINGLE FAMILY      $2,150.00     $40.00   \n",
       "2024-339     4038 WINDSFIELD WAY  SINGLE FAMILY    $224,400.00    $933.00   \n",
       "2024-340   1683 HASTINGS PARK DR  SINGLE FAMILY     $40,000.00    $136.00   \n",
       "2024-341       1021 STONEGATE DR  SINGLE FAMILY    $305,000.00  $1,503.25   \n",
       "2024-342     3049 WASHINGTON PKE  SINGLE FAMILY     $25,000.00    $250.00   \n",
       "2024-343      804 MILLERS RUN RD     COMMERCIAL        $500.00     $50.00   \n",
       "2024-344       1027 STONEGATE DR  SINGLE FAMILY      $3,000.00     $40.00   \n",
       "2024-345      673 MILLERS RUN RD     COMMERCIAL     $20,000.00    $468.00   \n",
       "2024-346   980 CECIL-REISSING RD  SINGLE FAMILY     $30,000.00     $80.00   \n",
       "2024-347      6442 INTERLAKEN DR  SINGLE FAMILY     $50,000.00    $343.00   \n",
       "2024-348     4450 REVOLUTION CIR  SINGLE FAMILY      $5,000.00     $40.00   \n",
       "2024-349       5050 THOMS RUN RD  SINGLE FAMILY      $2,000.00     $40.00   \n",
       "\n",
       "                              Memo  \n",
       "Permit No                           \n",
       "2024-336   NEW HOME - ELEVATION 20  \n",
       "2024-337           DETACHED GARAGE  \n",
       "2024-338                      SHED  \n",
       "2024-339   NEW HOME - ELEVATION 20  \n",
       "2024-340               ROOF & DECK  \n",
       "2024-341     NEW HOME - CHARLESTON  \n",
       "2024-342                      SIGN  \n",
       "2024-343         SIGN INSTALLATION  \n",
       "2024-344                      SHED  \n",
       "2024-345                DEMOLITION  \n",
       "2024-346           DETACHED GARAGE  \n",
       "2024-347           ADDITION & DECK  \n",
       "2024-348            SHED - 10 X 12  \n",
       "2024-349                   CARPORT  "
      ]
     },
     "execution_count": 144,
     "metadata": {},
     "output_type": "execute_result"
    }
   ],
   "source": [
    "t = tab_df [0].dropna(axis='rows', how='any', subset=('Permit No')).set_index('Permit No')\n",
    "df = None\n",
    "if df is None:\n",
    "    df = t.copy()\n",
    "else:\n",
    "    df = pd.concat((df, tab_df))\n",
    "df\n"
   ]
  },
  {
   "cell_type": "code",
   "execution_count": null,
   "metadata": {},
   "outputs": [
    {
     "ename": "NoSuchWindowException",
     "evalue": "Message: Browsing context has been discarded\nStacktrace:\nRemoteError@chrome://remote/content/shared/RemoteError.sys.mjs:8:8\nWebDriverError@chrome://remote/content/shared/webdriver/Errors.sys.mjs:193:5\nNoSuchWindowError@chrome://remote/content/shared/webdriver/Errors.sys.mjs:679:5\nassert.that/<@chrome://remote/content/shared/webdriver/Assert.sys.mjs:515:13\nassert.open@chrome://remote/content/shared/webdriver/Assert.sys.mjs:147:4\nGeckoDriver.prototype.close@chrome://remote/content/marionette/driver.sys.mjs:2433:15\ndespatch@chrome://remote/content/marionette/server.sys.mjs:318:40\nexecute@chrome://remote/content/marionette/server.sys.mjs:289:16\nonPacket/<@chrome://remote/content/marionette/server.sys.mjs:262:20\nonPacket@chrome://remote/content/marionette/server.sys.mjs:263:9\n_onJSONObjectReady/<@chrome://remote/content/marionette/transport.sys.mjs:494:20\n",
     "output_type": "error",
     "traceback": [
      "\u001b[0;31m---------------------------------------------------------------------------\u001b[0m",
      "\u001b[0;31mNoSuchWindowException\u001b[0m                     Traceback (most recent call last)",
      "Cell \u001b[0;32mIn[117], line 2\u001b[0m\n\u001b[1;32m      1\u001b[0m driver\u001b[38;5;241m.\u001b[39mclose()\n\u001b[0;32m----> 2\u001b[0m \u001b[43mdriver\u001b[49m\u001b[38;5;241;43m.\u001b[39;49m\u001b[43mclose\u001b[49m\u001b[43m(\u001b[49m\u001b[43m)\u001b[49m\n",
      "File \u001b[0;32m~/projects/data-science/venv/lib/python3.12/site-packages/selenium/webdriver/remote/webdriver.py:495\u001b[0m, in \u001b[0;36mWebDriver.close\u001b[0;34m(self)\u001b[0m\n\u001b[1;32m    487\u001b[0m \u001b[38;5;28;01mdef\u001b[39;00m \u001b[38;5;21mclose\u001b[39m(\u001b[38;5;28mself\u001b[39m) \u001b[38;5;241m-\u001b[39m\u001b[38;5;241m>\u001b[39m \u001b[38;5;28;01mNone\u001b[39;00m:\n\u001b[1;32m    488\u001b[0m \u001b[38;5;250m    \u001b[39m\u001b[38;5;124;03m\"\"\"Closes the current window.\u001b[39;00m\n\u001b[1;32m    489\u001b[0m \n\u001b[1;32m    490\u001b[0m \u001b[38;5;124;03m    :Usage:\u001b[39;00m\n\u001b[0;32m   (...)\u001b[0m\n\u001b[1;32m    493\u001b[0m \u001b[38;5;124;03m            driver.close()\u001b[39;00m\n\u001b[1;32m    494\u001b[0m \u001b[38;5;124;03m    \"\"\"\u001b[39;00m\n\u001b[0;32m--> 495\u001b[0m     \u001b[38;5;28;43mself\u001b[39;49m\u001b[38;5;241;43m.\u001b[39;49m\u001b[43mexecute\u001b[49m\u001b[43m(\u001b[49m\u001b[43mCommand\u001b[49m\u001b[38;5;241;43m.\u001b[39;49m\u001b[43mCLOSE\u001b[49m\u001b[43m)\u001b[49m\n",
      "File \u001b[0;32m~/projects/data-science/venv/lib/python3.12/site-packages/selenium/webdriver/remote/webdriver.py:384\u001b[0m, in \u001b[0;36mWebDriver.execute\u001b[0;34m(self, driver_command, params)\u001b[0m\n\u001b[1;32m    382\u001b[0m response \u001b[38;5;241m=\u001b[39m \u001b[38;5;28mself\u001b[39m\u001b[38;5;241m.\u001b[39mcommand_executor\u001b[38;5;241m.\u001b[39mexecute(driver_command, params)\n\u001b[1;32m    383\u001b[0m \u001b[38;5;28;01mif\u001b[39;00m response:\n\u001b[0;32m--> 384\u001b[0m     \u001b[38;5;28;43mself\u001b[39;49m\u001b[38;5;241;43m.\u001b[39;49m\u001b[43merror_handler\u001b[49m\u001b[38;5;241;43m.\u001b[39;49m\u001b[43mcheck_response\u001b[49m\u001b[43m(\u001b[49m\u001b[43mresponse\u001b[49m\u001b[43m)\u001b[49m\n\u001b[1;32m    385\u001b[0m     response[\u001b[38;5;124m\"\u001b[39m\u001b[38;5;124mvalue\u001b[39m\u001b[38;5;124m\"\u001b[39m] \u001b[38;5;241m=\u001b[39m \u001b[38;5;28mself\u001b[39m\u001b[38;5;241m.\u001b[39m_unwrap_value(response\u001b[38;5;241m.\u001b[39mget(\u001b[38;5;124m\"\u001b[39m\u001b[38;5;124mvalue\u001b[39m\u001b[38;5;124m\"\u001b[39m, \u001b[38;5;28;01mNone\u001b[39;00m))\n\u001b[1;32m    386\u001b[0m     \u001b[38;5;28;01mreturn\u001b[39;00m response\n",
      "File \u001b[0;32m~/projects/data-science/venv/lib/python3.12/site-packages/selenium/webdriver/remote/errorhandler.py:232\u001b[0m, in \u001b[0;36mErrorHandler.check_response\u001b[0;34m(self, response)\u001b[0m\n\u001b[1;32m    230\u001b[0m         alert_text \u001b[38;5;241m=\u001b[39m value[\u001b[38;5;124m\"\u001b[39m\u001b[38;5;124malert\u001b[39m\u001b[38;5;124m\"\u001b[39m]\u001b[38;5;241m.\u001b[39mget(\u001b[38;5;124m\"\u001b[39m\u001b[38;5;124mtext\u001b[39m\u001b[38;5;124m\"\u001b[39m)\n\u001b[1;32m    231\u001b[0m     \u001b[38;5;28;01mraise\u001b[39;00m exception_class(message, screen, stacktrace, alert_text)  \u001b[38;5;66;03m# type: ignore[call-arg]  # mypy is not smart enough here\u001b[39;00m\n\u001b[0;32m--> 232\u001b[0m \u001b[38;5;28;01mraise\u001b[39;00m exception_class(message, screen, stacktrace)\n",
      "\u001b[0;31mNoSuchWindowException\u001b[0m: Message: Browsing context has been discarded\nStacktrace:\nRemoteError@chrome://remote/content/shared/RemoteError.sys.mjs:8:8\nWebDriverError@chrome://remote/content/shared/webdriver/Errors.sys.mjs:193:5\nNoSuchWindowError@chrome://remote/content/shared/webdriver/Errors.sys.mjs:679:5\nassert.that/<@chrome://remote/content/shared/webdriver/Assert.sys.mjs:515:13\nassert.open@chrome://remote/content/shared/webdriver/Assert.sys.mjs:147:4\nGeckoDriver.prototype.close@chrome://remote/content/marionette/driver.sys.mjs:2433:15\ndespatch@chrome://remote/content/marionette/server.sys.mjs:318:40\nexecute@chrome://remote/content/marionette/server.sys.mjs:289:16\nonPacket/<@chrome://remote/content/marionette/server.sys.mjs:262:20\nonPacket@chrome://remote/content/marionette/server.sys.mjs:263:9\n_onJSONObjectReady/<@chrome://remote/content/marionette/transport.sys.mjs:494:20\n"
     ]
    }
   ],
   "source": [
    "driver.close()"
   ]
  },
  {
   "cell_type": "code",
   "execution_count": 118,
   "metadata": {},
   "outputs": [
    {
     "ename": "AttributeError",
     "evalue": "'WebDriver' object has no attribute 'swithc_to'",
     "output_type": "error",
     "traceback": [
      "\u001b[0;31m---------------------------------------------------------------------------\u001b[0m",
      "\u001b[0;31mAttributeError\u001b[0m                            Traceback (most recent call last)",
      "Cell \u001b[0;32mIn[118], line 3\u001b[0m\n\u001b[1;32m      1\u001b[0m driver\u001b[38;5;241m.\u001b[39mswitch_to\u001b[38;5;241m.\u001b[39mwindow(driver\u001b[38;5;241m.\u001b[39mwindow_handles[\u001b[38;5;241m-\u001b[39m\u001b[38;5;241m1\u001b[39m])\n\u001b[1;32m      2\u001b[0m driver\u001b[38;5;241m.\u001b[39mclose()\n\u001b[0;32m----> 3\u001b[0m \u001b[43mdriver\u001b[49m\u001b[38;5;241;43m.\u001b[39;49m\u001b[43mswithc_to\u001b[49m\u001b[38;5;241m.\u001b[39mwindow(original_window)\n",
      "\u001b[0;31mAttributeError\u001b[0m: 'WebDriver' object has no attribute 'swithc_to'"
     ]
    }
   ],
   "source": [
    "driver.switch_to.window(driver.window_handles[-1])\n",
    "driver.close()\n",
    "driver.swithc_to.window(original_window)"
   ]
  }
 ],
 "metadata": {
  "kernelspec": {
   "display_name": "venv",
   "language": "python",
   "name": "python3"
  },
  "language_info": {
   "codemirror_mode": {
    "name": "ipython",
    "version": 3
   },
   "file_extension": ".py",
   "mimetype": "text/x-python",
   "name": "python",
   "nbconvert_exporter": "python",
   "pygments_lexer": "ipython3",
   "version": "3.12.3"
  }
 },
 "nbformat": 4,
 "nbformat_minor": 2
}
