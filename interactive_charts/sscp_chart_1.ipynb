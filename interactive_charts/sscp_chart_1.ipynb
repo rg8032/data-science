{
 "cells": [
  {
   "cell_type": "code",
   "execution_count": 1,
   "id": "66891496",
   "metadata": {},
   "outputs": [],
   "source": [
    "import plotly\n",
    "import bokeh\n",
    "\n",
    "import plotly.graph_objects as go\n",
    "import plotly.express as px\n",
    "\n"
   ]
  },
  {
   "cell_type": "code",
   "execution_count": 98,
   "id": "858a971a",
   "metadata": {},
   "outputs": [
    {
     "name": "stdout",
     "output_type": "stream",
     "text": [
      "Plot #1: Multifamily deliveries\n"
     ]
    },
    {
     "data": {
      "application/vnd.plotly.v1+json": {
       "config": {
        "plotlyServerURL": "https://plot.ly"
       },
       "data": [
        {
         "hovertemplate": "Year=%{x}<br>Units (thousands)=%{y}<extra></extra>",
         "legendgroup": "",
         "marker": {
          "color": "#636efa",
          "pattern": {
           "shape": ""
          }
         },
         "name": "",
         "orientation": "v",
         "showlegend": false,
         "textposition": "auto",
         "texttemplate": "%{y}",
         "type": "bar",
         "x": [
          "2024",
          "2025",
          "2026",
          "2027"
         ],
         "xaxis": "x",
         "y": {
          "bdata": "YAIkAq4BaQE=",
          "dtype": "i2"
         },
         "yaxis": "y"
        }
       ],
       "layout": {
        "barmode": "relative",
        "legend": {
         "font": {
          "size": 12
         },
         "title": {
          "text": "Legend"
         },
         "tracegroupgap": 0,
         "x": 0.01,
         "xanchor": "left",
         "y": 0.99,
         "yanchor": "top"
        },
        "showlegend": true,
        "template": {
         "data": {
          "bar": [
           {
            "error_x": {
             "color": "#2a3f5f"
            },
            "error_y": {
             "color": "#2a3f5f"
            },
            "marker": {
             "line": {
              "color": "#E5ECF6",
              "width": 0.5
             },
             "pattern": {
              "fillmode": "overlay",
              "size": 10,
              "solidity": 0.2
             }
            },
            "type": "bar"
           }
          ],
          "barpolar": [
           {
            "marker": {
             "line": {
              "color": "#E5ECF6",
              "width": 0.5
             },
             "pattern": {
              "fillmode": "overlay",
              "size": 10,
              "solidity": 0.2
             }
            },
            "type": "barpolar"
           }
          ],
          "carpet": [
           {
            "aaxis": {
             "endlinecolor": "#2a3f5f",
             "gridcolor": "white",
             "linecolor": "white",
             "minorgridcolor": "white",
             "startlinecolor": "#2a3f5f"
            },
            "baxis": {
             "endlinecolor": "#2a3f5f",
             "gridcolor": "white",
             "linecolor": "white",
             "minorgridcolor": "white",
             "startlinecolor": "#2a3f5f"
            },
            "type": "carpet"
           }
          ],
          "choropleth": [
           {
            "colorbar": {
             "outlinewidth": 0,
             "ticks": ""
            },
            "type": "choropleth"
           }
          ],
          "contour": [
           {
            "colorbar": {
             "outlinewidth": 0,
             "ticks": ""
            },
            "colorscale": [
             [
              0,
              "#0d0887"
             ],
             [
              0.1111111111111111,
              "#46039f"
             ],
             [
              0.2222222222222222,
              "#7201a8"
             ],
             [
              0.3333333333333333,
              "#9c179e"
             ],
             [
              0.4444444444444444,
              "#bd3786"
             ],
             [
              0.5555555555555556,
              "#d8576b"
             ],
             [
              0.6666666666666666,
              "#ed7953"
             ],
             [
              0.7777777777777778,
              "#fb9f3a"
             ],
             [
              0.8888888888888888,
              "#fdca26"
             ],
             [
              1,
              "#f0f921"
             ]
            ],
            "type": "contour"
           }
          ],
          "contourcarpet": [
           {
            "colorbar": {
             "outlinewidth": 0,
             "ticks": ""
            },
            "type": "contourcarpet"
           }
          ],
          "heatmap": [
           {
            "colorbar": {
             "outlinewidth": 0,
             "ticks": ""
            },
            "colorscale": [
             [
              0,
              "#0d0887"
             ],
             [
              0.1111111111111111,
              "#46039f"
             ],
             [
              0.2222222222222222,
              "#7201a8"
             ],
             [
              0.3333333333333333,
              "#9c179e"
             ],
             [
              0.4444444444444444,
              "#bd3786"
             ],
             [
              0.5555555555555556,
              "#d8576b"
             ],
             [
              0.6666666666666666,
              "#ed7953"
             ],
             [
              0.7777777777777778,
              "#fb9f3a"
             ],
             [
              0.8888888888888888,
              "#fdca26"
             ],
             [
              1,
              "#f0f921"
             ]
            ],
            "type": "heatmap"
           }
          ],
          "histogram": [
           {
            "marker": {
             "pattern": {
              "fillmode": "overlay",
              "size": 10,
              "solidity": 0.2
             }
            },
            "type": "histogram"
           }
          ],
          "histogram2d": [
           {
            "colorbar": {
             "outlinewidth": 0,
             "ticks": ""
            },
            "colorscale": [
             [
              0,
              "#0d0887"
             ],
             [
              0.1111111111111111,
              "#46039f"
             ],
             [
              0.2222222222222222,
              "#7201a8"
             ],
             [
              0.3333333333333333,
              "#9c179e"
             ],
             [
              0.4444444444444444,
              "#bd3786"
             ],
             [
              0.5555555555555556,
              "#d8576b"
             ],
             [
              0.6666666666666666,
              "#ed7953"
             ],
             [
              0.7777777777777778,
              "#fb9f3a"
             ],
             [
              0.8888888888888888,
              "#fdca26"
             ],
             [
              1,
              "#f0f921"
             ]
            ],
            "type": "histogram2d"
           }
          ],
          "histogram2dcontour": [
           {
            "colorbar": {
             "outlinewidth": 0,
             "ticks": ""
            },
            "colorscale": [
             [
              0,
              "#0d0887"
             ],
             [
              0.1111111111111111,
              "#46039f"
             ],
             [
              0.2222222222222222,
              "#7201a8"
             ],
             [
              0.3333333333333333,
              "#9c179e"
             ],
             [
              0.4444444444444444,
              "#bd3786"
             ],
             [
              0.5555555555555556,
              "#d8576b"
             ],
             [
              0.6666666666666666,
              "#ed7953"
             ],
             [
              0.7777777777777778,
              "#fb9f3a"
             ],
             [
              0.8888888888888888,
              "#fdca26"
             ],
             [
              1,
              "#f0f921"
             ]
            ],
            "type": "histogram2dcontour"
           }
          ],
          "mesh3d": [
           {
            "colorbar": {
             "outlinewidth": 0,
             "ticks": ""
            },
            "type": "mesh3d"
           }
          ],
          "parcoords": [
           {
            "line": {
             "colorbar": {
              "outlinewidth": 0,
              "ticks": ""
             }
            },
            "type": "parcoords"
           }
          ],
          "pie": [
           {
            "automargin": true,
            "type": "pie"
           }
          ],
          "scatter": [
           {
            "fillpattern": {
             "fillmode": "overlay",
             "size": 10,
             "solidity": 0.2
            },
            "type": "scatter"
           }
          ],
          "scatter3d": [
           {
            "line": {
             "colorbar": {
              "outlinewidth": 0,
              "ticks": ""
             }
            },
            "marker": {
             "colorbar": {
              "outlinewidth": 0,
              "ticks": ""
             }
            },
            "type": "scatter3d"
           }
          ],
          "scattercarpet": [
           {
            "marker": {
             "colorbar": {
              "outlinewidth": 0,
              "ticks": ""
             }
            },
            "type": "scattercarpet"
           }
          ],
          "scattergeo": [
           {
            "marker": {
             "colorbar": {
              "outlinewidth": 0,
              "ticks": ""
             }
            },
            "type": "scattergeo"
           }
          ],
          "scattergl": [
           {
            "marker": {
             "colorbar": {
              "outlinewidth": 0,
              "ticks": ""
             }
            },
            "type": "scattergl"
           }
          ],
          "scattermap": [
           {
            "marker": {
             "colorbar": {
              "outlinewidth": 0,
              "ticks": ""
             }
            },
            "type": "scattermap"
           }
          ],
          "scattermapbox": [
           {
            "marker": {
             "colorbar": {
              "outlinewidth": 0,
              "ticks": ""
             }
            },
            "type": "scattermapbox"
           }
          ],
          "scatterpolar": [
           {
            "marker": {
             "colorbar": {
              "outlinewidth": 0,
              "ticks": ""
             }
            },
            "type": "scatterpolar"
           }
          ],
          "scatterpolargl": [
           {
            "marker": {
             "colorbar": {
              "outlinewidth": 0,
              "ticks": ""
             }
            },
            "type": "scatterpolargl"
           }
          ],
          "scatterternary": [
           {
            "marker": {
             "colorbar": {
              "outlinewidth": 0,
              "ticks": ""
             }
            },
            "type": "scatterternary"
           }
          ],
          "surface": [
           {
            "colorbar": {
             "outlinewidth": 0,
             "ticks": ""
            },
            "colorscale": [
             [
              0,
              "#0d0887"
             ],
             [
              0.1111111111111111,
              "#46039f"
             ],
             [
              0.2222222222222222,
              "#7201a8"
             ],
             [
              0.3333333333333333,
              "#9c179e"
             ],
             [
              0.4444444444444444,
              "#bd3786"
             ],
             [
              0.5555555555555556,
              "#d8576b"
             ],
             [
              0.6666666666666666,
              "#ed7953"
             ],
             [
              0.7777777777777778,
              "#fb9f3a"
             ],
             [
              0.8888888888888888,
              "#fdca26"
             ],
             [
              1,
              "#f0f921"
             ]
            ],
            "type": "surface"
           }
          ],
          "table": [
           {
            "cells": {
             "fill": {
              "color": "#EBF0F8"
             },
             "line": {
              "color": "white"
             }
            },
            "header": {
             "fill": {
              "color": "#C8D4E3"
             },
             "line": {
              "color": "white"
             }
            },
            "type": "table"
           }
          ]
         },
         "layout": {
          "annotationdefaults": {
           "arrowcolor": "#2a3f5f",
           "arrowhead": 0,
           "arrowwidth": 1
          },
          "autotypenumbers": "strict",
          "coloraxis": {
           "colorbar": {
            "outlinewidth": 0,
            "ticks": ""
           }
          },
          "colorscale": {
           "diverging": [
            [
             0,
             "#8e0152"
            ],
            [
             0.1,
             "#c51b7d"
            ],
            [
             0.2,
             "#de77ae"
            ],
            [
             0.3,
             "#f1b6da"
            ],
            [
             0.4,
             "#fde0ef"
            ],
            [
             0.5,
             "#f7f7f7"
            ],
            [
             0.6,
             "#e6f5d0"
            ],
            [
             0.7,
             "#b8e186"
            ],
            [
             0.8,
             "#7fbc41"
            ],
            [
             0.9,
             "#4d9221"
            ],
            [
             1,
             "#276419"
            ]
           ],
           "sequential": [
            [
             0,
             "#0d0887"
            ],
            [
             0.1111111111111111,
             "#46039f"
            ],
            [
             0.2222222222222222,
             "#7201a8"
            ],
            [
             0.3333333333333333,
             "#9c179e"
            ],
            [
             0.4444444444444444,
             "#bd3786"
            ],
            [
             0.5555555555555556,
             "#d8576b"
            ],
            [
             0.6666666666666666,
             "#ed7953"
            ],
            [
             0.7777777777777778,
             "#fb9f3a"
            ],
            [
             0.8888888888888888,
             "#fdca26"
            ],
            [
             1,
             "#f0f921"
            ]
           ],
           "sequentialminus": [
            [
             0,
             "#0d0887"
            ],
            [
             0.1111111111111111,
             "#46039f"
            ],
            [
             0.2222222222222222,
             "#7201a8"
            ],
            [
             0.3333333333333333,
             "#9c179e"
            ],
            [
             0.4444444444444444,
             "#bd3786"
            ],
            [
             0.5555555555555556,
             "#d8576b"
            ],
            [
             0.6666666666666666,
             "#ed7953"
            ],
            [
             0.7777777777777778,
             "#fb9f3a"
            ],
            [
             0.8888888888888888,
             "#fdca26"
            ],
            [
             1,
             "#f0f921"
            ]
           ]
          },
          "colorway": [
           "#636efa",
           "#EF553B",
           "#00cc96",
           "#ab63fa",
           "#FFA15A",
           "#19d3f3",
           "#FF6692",
           "#B6E880",
           "#FF97FF",
           "#FECB52"
          ],
          "font": {
           "color": "#2a3f5f"
          },
          "geo": {
           "bgcolor": "white",
           "lakecolor": "white",
           "landcolor": "#E5ECF6",
           "showlakes": true,
           "showland": true,
           "subunitcolor": "white"
          },
          "hoverlabel": {
           "align": "left"
          },
          "hovermode": "closest",
          "mapbox": {
           "style": "light"
          },
          "paper_bgcolor": "white",
          "plot_bgcolor": "#E5ECF6",
          "polar": {
           "angularaxis": {
            "gridcolor": "white",
            "linecolor": "white",
            "ticks": ""
           },
           "bgcolor": "#E5ECF6",
           "radialaxis": {
            "gridcolor": "white",
            "linecolor": "white",
            "ticks": ""
           }
          },
          "scene": {
           "xaxis": {
            "backgroundcolor": "#E5ECF6",
            "gridcolor": "white",
            "gridwidth": 2,
            "linecolor": "white",
            "showbackground": true,
            "ticks": "",
            "zerolinecolor": "white"
           },
           "yaxis": {
            "backgroundcolor": "#E5ECF6",
            "gridcolor": "white",
            "gridwidth": 2,
            "linecolor": "white",
            "showbackground": true,
            "ticks": "",
            "zerolinecolor": "white"
           },
           "zaxis": {
            "backgroundcolor": "#E5ECF6",
            "gridcolor": "white",
            "gridwidth": 2,
            "linecolor": "white",
            "showbackground": true,
            "ticks": "",
            "zerolinecolor": "white"
           }
          },
          "shapedefaults": {
           "line": {
            "color": "#2a3f5f"
           }
          },
          "ternary": {
           "aaxis": {
            "gridcolor": "white",
            "linecolor": "white",
            "ticks": ""
           },
           "baxis": {
            "gridcolor": "white",
            "linecolor": "white",
            "ticks": ""
           },
           "bgcolor": "#E5ECF6",
           "caxis": {
            "gridcolor": "white",
            "linecolor": "white",
            "ticks": ""
           }
          },
          "title": {
           "x": 0.05
          },
          "xaxis": {
           "automargin": true,
           "gridcolor": "white",
           "linecolor": "white",
           "ticks": "",
           "title": {
            "standoff": 15
           },
           "zerolinecolor": "white",
           "zerolinewidth": 2
          },
          "yaxis": {
           "automargin": true,
           "gridcolor": "white",
           "linecolor": "white",
           "ticks": "",
           "title": {
            "standoff": 15
           },
           "zerolinecolor": "white",
           "zerolinewidth": 2
          }
         }
        },
        "title": {
         "automargin": true,
         "font": {
          "size": 40,
          "weight": 1000
         },
         "subtitle": {
          "font": {
           "color": "gray",
           "shadow": "2px 2px 2px rgba(200,00,50,0.4)",
           "size": 13
          },
          "text": "Source: CoStar/NAHB/Yardi Matrix"
         },
         "text": "U.S. Multifamily Deliveries (Actual/Forecast), 2024-2027",
         "x": 0.02,
         "xanchor": "left",
         "xref": "container",
         "y": 0.95
        },
        "width": 1500,
        "xaxis": {
         "anchor": "y",
         "domain": [
          0,
          1
         ],
         "title": {
          "text": "Year"
         }
        },
        "yaxis": {
         "anchor": "x",
         "domain": [
          0,
          1
         ],
         "title": {
          "text": "Units (thousands)"
         }
        }
       }
      }
     },
     "metadata": {},
     "output_type": "display_data"
    },
    {
     "name": "stdout",
     "output_type": "stream",
     "text": [
      "Plot #2: Multifamily starts\n",
      "Plot #3: Industrial vacancy\n",
      "Plot #4: E-commerce share of total retail\n",
      "Plot #5: ENR Construction Cost Index\n",
      "Plot #6: Apartment vacancy measures\n"
     ]
    }
   ],
   "source": [
    "figs = []\n",
    "\n",
    "# 1) Multifamily deliveries (actual + outside-sourced forecasts)\n",
    "print(\"Plot #1: Multifamily deliveries\")\n",
    "years_deliveries = [2024, 2025, 2026, 2027]\n",
    "deliveries_k = [608, 548, 430, 361]   # thousands of units; sources: CoStar/NAHB via articles + Yardi Matrix forecast\n",
    "\n",
    "fig = go.Figure(layout=dict(title=\"U.S. Multifamily Deliveries (Actual/Forecast), 2024-2027\", xaxis_title=\"Year\", yaxis_title=\"Units (thousands)\"))\n",
    "fig.add_trace(go.Bar(x=[str(y) for y in years_deliveries], y=deliveries_k, name='U.S. Multifamily Deliveries (Actual/Forecast), 2024-2027', marker_color='lightblue'))\n",
    "figs.append(fig)\n",
    "\n",
    "#1.a)\n",
    "x = [str(y) for y in years_deliveries]\n",
    "y = deliveries_k\n",
    "fig = px.bar(x=x, y=y, title=\"U.S. Multifamily Deliveries (Actual/Forecast), 2024-2027\", labels={\"x\": \"Year\", \"y\": \"Units (thousands)\"}, text_auto=True)\n",
    "fig.update_layout(title=dict(\n",
    "    text='U.S. Multifamily Deliveries (Actual/Forecast), 2024-2027',\n",
    "    subtitle=dict(\n",
    "        text='Source: CoStar/NAHB/Yardi Matrix',\n",
    "        font=dict(color='gray', size=13, shadow=10)\n",
    "    ),\n",
    "    font=dict(size=40),\n",
    "    automargin=True,\n",
    "    xanchor='left',\n",
    "    x=0.01,\n",
    "    y=0.95,\n",
    "    #yref='paper'\n",
    "))\n",
    "\n",
    "#import random\n",
    "x = [str(y) for y in years_deliveries]\n",
    "y = deliveries_k\n",
    "fig = px.bar(x=x, y=y, title=\"U.S. Multifamily Deliveries (Actual/Forecast), 2024-2027\", labels={\"x\": \"Year\", \"y\": \"Units (thousands)\"}, text_auto=True)#, color=[random.choice(['a', 'b', 'c']) for _ in range(len(x))])\n",
    "fig.update_layout(\n",
    "    title=dict(\n",
    "        text='U.S. Multifamily Deliveries (Actual/Forecast), 2024-2027',\n",
    "        subtitle=dict(\n",
    "            text='Source: CoStar/NAHB/Yardi Matrix',\n",
    "            font=dict(color='gray', size=13, shadow='2px 2px 2px rgba(200,00,50,0.4)')\n",
    "        ),\n",
    "        font=dict(size=40, weight=1000), # 1-1000\n",
    "        automargin=True,\n",
    "        x=0.02,\n",
    "        y=0.95,\n",
    "        #yref='paper'\n",
    "        xref='container',\n",
    "        xanchor='left',\n",
    "        ),\n",
    "    showlegend=True,\n",
    "    legend=dict(  # Only works with a 3rd dimension (color)\n",
    "        title='Legend',\n",
    "        #orientation='h',\n",
    "        yanchor='top',\n",
    "        y=0.99,\n",
    "        xanchor='left',\n",
    "        x=0.01,\n",
    "        font=dict(size=12),\n",
    "        # y=.5,\n",
    "        # xanchor='left',\n",
    "        # xref='container',\n",
    "        # x=.5,\n",
    "    ),\n",
    "    width=1500,\n",
    ")\n",
    "fig.show()\n",
    "\n",
    "figs.append(fig)\n",
    "#fig.show()\n",
    "\n",
    "# 2) Multifamily starts (NAHB 2025-2026) + our projection to 2035\n",
    "print(\"Plot #2: Multifamily starts\")\n",
    "years_starts = list(range(2025, 2036))\n",
    "starts_k = [317, 336, 340, 350, 360, 370, 380, 390, 400, 400, 400]  # first two = NAHB; 2027+ our projection plateau at ~400k\n",
    "\n",
    "fig = go.Figure(layout=dict(title=\"U.S. Multifamily Housing Starts, 2025-2035 (2025-26 from NAHB; 2027+ projection)\", xaxis_title=\"Year\", yaxis_title=\"Starts (thousands)\"))\n",
    "fig.add_trace(go.Scatter(x=years_starts, y=starts_k, mode='lines+markers', name='U.S. Multifamily Housing Starts, 2025-2035', line=dict(color='blue'), marker=dict(symbol='circle', size=10, color='blue')))\n",
    "figs.append(fig)\n",
    "\n",
    "# 3) Industrial vacancy (selected anchor points + interpolation)\n",
    "print(\"Plot #3: Industrial vacancy\")\n",
    "years_iv = [2014, 2022, 2025]\n",
    "vacancy_iv = [6.6, 2.8, 6.6]  # %; CBRE (2014=similar level; 2022 record low; 2025 = 6.6% per CBRE Q2 2025)\n",
    "# create simple interpolated yearly values for visual smoothness\n",
    "import numpy as np\n",
    "years_full = list(range(2014, 2026))\n",
    "vacancy_interp = np.interp(years_full, years_iv, vacancy_iv)\n",
    "\n",
    "fig = go.Figure(layout=dict(title=\"U.S. Industrial Vacancy (%), 2014-2025 (Anchored to CBRE reference points)\", xaxis_title=\"Year\", yaxis_title=\"Vacancy (%)\"))\n",
    "fig.add_trace(go.Scatter(x=years_iv, y=vacancy_iv, mode='lines+markers', name='U.S. Industrial Vacancy (%), 2014-2025', line=dict(color='blue'), marker=dict(symbol='circle', size=10, color='blue')))\n",
    "figs.append(fig)\n",
    "\n",
    "# 4) E‑commerce share of total retail (Commerce Dept. actual; forward projection)\n",
    "print(\"Plot #4: E-commerce share of total retail\")\n",
    "years_ecom = [2010, 2015, 2020, 2024, 2030, 2035]\n",
    "share_ecom = [4.2, 7.3, 13.6, 16.4, 22.0, 25.0]  # %; first four approximate Commerce history; 2030/35 are our conservative projections\n",
    "\n",
    "fig = go.Figure()\n",
    "fig.add_trace(go.Scatter(x=years_ecom, y=share_ecom, mode='lines+markers', name='U.S. E-commerce as % of Total Retail, 2010-2035', line=dict(color='blue'), marker=dict(symbol='circle', size=10, color='blue')))\n",
    "figs.append(fig)  \n",
    "\n",
    "# 5) ENR Construction Cost Index path and projection\n",
    "print(\"Plot #5: ENR Construction Cost Index\")   \n",
    "years_cci = [2022, 2023, 2024, 2025]\n",
    "cci_index = [12620, 13175, 13518, 13750]  # ENR CCI approximate annual averages\n",
    "# project 2026-2035 at ~3.5% compounded\n",
    "proj_years = list(range(2026, 2036))\n",
    "last_value = cci_index[-1]\n",
    "proj_values = []\n",
    "for y in proj_years:\n",
    "    last_value = last_value * 1.035\n",
    "    proj_values.append(last_value)\n",
    "\n",
    "fig = go.Figure(layout=dict(title=\"ENR Construction Cost Index, 2022-2035 (Projection 2026+)\", xaxis_title=\"Year\", yaxis_title=\"Index Level\"))\n",
    "fig.add_trace(go.Scatter(x=years_cci, y=cci_index, mode='lines+markers', name='Actual', line=dict(color='blue'), marker=dict(symbol='circle', size=10, color='blue')))\n",
    "fig.add_trace(go.Scatter(x=proj_years, y=proj_values, mode='lines+markers', name='Projection', line=dict(color='orange'), marker=dict(symbol='circle', size=10, color='orange')))\n",
    "figs.append(fig)\n",
    "\n",
    "# 6) Apartment vacancy—two measures (Moody's vs CBRE, 2024-2025)\n",
    "print(\"Plot #6: Apartment vacancy measures\")\n",
    "quarters = [\"2024 Q1\",\"2025 Q1\",\"2025 Q2\"]\n",
    "vac_moodys = [5.8, 6.3, 6.3]  # % (last point flat for illustration)\n",
    "vac_cbre = [5.0, 4.6, 4.1]     # illustrative path to CBRE 4.1% in Q2 2025\n",
    "\n",
    "fig = go.Figure(layout=dict(title=\"Multifamily Vacancy Measures, 2024-2025\", xaxis_title=\"Quarter\", yaxis_title=\"Vacancy (%)\"))\n",
    "fig.add_trace(go.Scatter(x=quarters, y=vac_moodys, mode='lines+markers', name=\"Moody's Analytics (Apt)\", line=dict(color='blue'), marker=dict(symbol='circle', size=10, color='blue')))\n",
    "fig.add_trace(go.Scatter(x=quarters, y=vac_cbre, mode='lines+markers', name=\"CBRE (All MF)\", line=dict(color='orange'), marker=dict(symbol='circle', size=10, color='orange')))\n",
    "figs.append(fig)\n",
    "\n",
    "\n",
    "\n",
    "for f in figs:\n",
    "    f.write_html('chart'+str(figs.index(f)+1)+'.html')\n",
    "\n"
   ]
  }
 ],
 "metadata": {
  "kernelspec": {
   "display_name": "venv",
   "language": "python",
   "name": "python3"
  },
  "language_info": {
   "codemirror_mode": {
    "name": "ipython",
    "version": 3
   },
   "file_extension": ".py",
   "mimetype": "text/x-python",
   "name": "python",
   "nbconvert_exporter": "python",
   "pygments_lexer": "ipython3",
   "version": "3.12.3"
  }
 },
 "nbformat": 4,
 "nbformat_minor": 5
}
