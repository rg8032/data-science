{
 "cells": [
  {
   "cell_type": "code",
   "execution_count": 1,
   "metadata": {},
   "outputs": [],
   "source": [
    "import requests\n",
    "from lxml import html\n",
    "\n",
    "import unicodecsv as csv\n",
    "import pandas as pd\n",
    "import numpy as np\n",
    "\n",
    "import time\n",
    "import random\n",
    "import re\n",
    "import json\n",
    "\n",
    "from IPython.display import display, Markdown, HTML\n",
    "import IPython.display as dsp\n",
    "\n",
    "pd.set_option('display.width', None)\n",
    "pd.set_option('display.max_rows', 120)\n",
    "pd.set_option('display.max_info_rows', 120)\n",
    "pd.set_option('display.max_info_columns', 120)\n",
    "pd.options.display.max_colwidth = 200  # pd.set_option('display.max_colwidth', 200)\n",
    "pd.set_option('display.float_format', lambda fp: f'{fp:,.3f}')\n",
    "\n",
    "\n",
    "import missingno as msno\n",
    "import seaborn as sns\n",
    "import matplotlib.pyplot as plt\n",
    "\n",
    "import sklearn.preprocessing\n",
    "import sklearn.impute\n",
    "import sklearn.neighbors\n",
    "import sklearn.cluster\n",
    "\n",
    "import scipy.stats\n",
    "\n",
    "from selenium import webdriver\n",
    "from selenium.webdriver.common.by import By\n",
    "from selenium.common.exceptions import NoSuchElementException\n",
    "from selenium.webdriver.support.ui import Select\n",
    "from time import sleep\n",
    "\n",
    "LINE_UP, LINE_CLEAR = None, None\n"
   ]
  },
  {
   "cell_type": "code",
   "execution_count": 2,
   "metadata": {},
   "outputs": [],
   "source": [
    "def write(name, data):\n",
    "    with open(name, 'w') as f:\n",
    "        f.write(data)"
   ]
  },
  {
   "cell_type": "code",
   "execution_count": 3,
   "metadata": {},
   "outputs": [],
   "source": [
    "def random_ua():\n",
    "    user_agents = [\n",
    "        'Mozilla/5.0 (Windows NT 10.0; Win64; x64) AppleWebKit/537.36 (KHTML, like Gecko) Chrome/130.0.0.0 Safari/537.3',\n",
    "        #'Mozilla/5.0 (Macintosh; Intel Mac OS X 10_15_7) AppleWebKit/537.36 (KHTML, like Gecko) Chrome/123.0.0.0 Safari/537.36',\n",
    "        #'Mozilla/5.0 (X11; CrOS x86_64 8172.45.0) AppleWebKit/537.36 (KHTML, like Gecko) Chrome/51.0.2704.64 Safari/537.36',\n",
    "        'Mozilla/5.0 (Windows NT 10.0; Win64; x64) AppleWebKit/537.36 (KHTML, like Gecko) Chrome/130.0.0.0 Safari/537.36 Edg/130.0.0.0',\n",
    "    ]\n",
    "    selected_ua = random.choice(user_agents)\n",
    "    print(f'Selected UA: {selected_ua}')\n",
    "    return selected_ua"
   ]
  },
  {
   "cell_type": "code",
   "execution_count": 4,
   "metadata": {},
   "outputs": [],
   "source": [
    "def countdown( min, max=None, buffer=None, prefix='Sleeping', postfix='...'):\n",
    "    '''Print a countdown to screen.  Erase it when it is done.  \n",
    "    Accepts either the time to countdown OR a min and max for randint for random sleeps.'''\n",
    "    if max is None:\n",
    "        max = min\n",
    "    \n",
    "    delay = random.randint(min, max)\n",
    "    for i in range(delay):\n",
    "        msg = f'{prefix} {delay-i:<2}s'\n",
    "        msg = f'{msg:<14}s / {delay:>2}s {postfix}'\n",
    "        if buffer is None:\n",
    "            print(msg, end='')\n",
    "        else:\n",
    "            buffer.update(Markdown(msg))\n",
    "\n",
    "        time.sleep(1)\n",
    "        if buffer is None:\n",
    "            print(f'\\r                      ', end='\\r')\n",
    "        #else:\n",
    "            #buffer.update(Markdown(f' '))\n",
    "    if buffer is None:\n",
    "        print(LINE_UP, LINE_CLEAR, end='')\n",
    "    else:\n",
    "        buffer.update(Markdown('Sleeping complete ...'))\n",
    "    "
   ]
  },
  {
   "cell_type": "code",
   "execution_count": 5,
   "metadata": {},
   "outputs": [],
   "source": [
    "def write_csv(data, target, fieldnames=None):\n",
    "    # Save data to csv\n",
    "\n",
    "    with open(f'properties-{target}.csv', 'wb') as csvfile:\n",
    "        if fieldnames is None:\n",
    "            fieldnames = list(data[0].keys())\n",
    "        print(f'Fieldnames: {fieldnames}')\n",
    "        writer = csv.DictWriter(csvfile, fieldnames=fieldnames)\n",
    "        writer.writeheader()\n",
    "        for row in data:\n",
    "            writer.writerow(row)"
   ]
  },
  {
   "cell_type": "code",
   "execution_count": 6,
   "metadata": {},
   "outputs": [],
   "source": [
    "def pr(msg, buffer=None, end='\\n', auto_format=True):\n",
    "    #format = dict(top='## {}', mid='{}', bot='{}')  # buffers are IPython.display.display objects with a 'name' attribute added\n",
    "\n",
    "    if not buffer:\n",
    "        print(msg, end=end)\n",
    "    \n",
    "    else:\n",
    "       #print('PR: msg type: ', type(msg))\n",
    "       if isinstance(msg, str):\n",
    "        if auto_format:\n",
    "            try:\n",
    "              msg = buffer.format.format(msg)\n",
    "            except Exception as e:\n",
    "              #print('In pr(): buffer formatting failed')\n",
    "              pass\n",
    "        buffer.update(Markdown(msg))\n",
    "       \n",
    "       else:\n",
    "          #print('PR: msg type: ',type(msg), 'auto_format: ', auto_format)\n",
    "          buffer.update(msg)\n"
   ]
  },
  {
   "cell_type": "code",
   "execution_count": null,
   "metadata": {},
   "outputs": [
    {
     "data": {
      "text/plain": [
       "'...'"
      ]
     },
     "metadata": {},
     "output_type": "display_data"
    },
    {
     "data": {
      "text/plain": [
       "'...'"
      ]
     },
     "metadata": {},
     "output_type": "display_data"
    },
    {
     "data": {
      "text/plain": [
       "'...'"
      ]
     },
     "metadata": {},
     "output_type": "display_data"
    }
   ],
   "source": [
    "def get_display_handles():\n",
    "    dh_top = display('...', display_id=True)\n",
    "    dh_mid = display('...', display_id=True)\n",
    "    dh_bot = display('...', display_id=True)\n",
    "\n",
    "    dh_top.name = 'top'\n",
    "    dh_mid.name = 'mid'\n",
    "    dh_bot.name = 'bot'\n",
    "\n",
    "    dh_top.format = '#### {}'\n",
    "    dh_bot.format = '{}'\n",
    "    dh_mid.format = '{}'\n",
    "    \n",
    "    return (dh_top, dh_mid, dh_bot)\n",
    "\n",
    "dh_top, dh_mid, dh_bot = get_display_handles()"
   ]
  },
  {
   "cell_type": "code",
   "execution_count": 8,
   "metadata": {},
   "outputs": [],
   "source": [
    "def ALCO_fetch_data(target=None, filter=''):\n",
    "    base_url = 'https://www2.alleghenycounty.us/RealEstate{}'\n",
    "    if target is None:\n",
    "        target = '/Default.aspx'\n",
    "        #url = 'https://www.redfin.com/county/2362/PA/Allegheny-County/'\n",
    "    else:\n",
    "        if target[0] != '/':\n",
    "            target = '/' + target\n",
    "        if target[-1] != '/':\n",
    "            target += '/'\n",
    "        if filter != '':\n",
    "            if filter[0] == '/':\n",
    "                filter = filter[1:]\n",
    "            if filter[-1] != '/':\n",
    "                filter += '/'\n",
    "    url = base_url.format(target+filter)\n",
    "\n",
    "    headers = {\n",
    "        'accept': 'text/html,application/xhtml+xml,application/xml;q=0.9,image/avif,image/webp,image/apng,*/*;q=0.8,application/signed-exchange;v=b3;q=0.7',\n",
    "        'accept-language': 'en-US,en;q=0.9',\n",
    "        'cache-control': 'max-age=0',\n",
    "        'sec-ch-ua': '\"Microsoft Edge\";v=\"131\", \"Chromium\";v=\"131\", \"Not_A Brand\";v=\"24\"',\n",
    "        'sec-ch-ua-mobile':'?',\n",
    "        'sec-ch-ua-platform':'\"Windows\"',\n",
    "        'sec-fetch-dest':'document',\n",
    "        'sec-fetch-mode':'navigate',\n",
    "        'sec-fetch-site':'none',\n",
    "        'sec-fetch-user':'?1',\n",
    "        'upgrade-insecure-requests':'1',\n",
    "        'User-Agent': 'Mozilla/5.0 (Windows NT 10.0; Win64; x64) AppleWebKit/537.36 (KHTML, like Gecko) Chrome/130.0.0.0 Safari/537.36 Edg/130.0.0.0',\n",
    "    }\n",
    "    s = requests.Session()\n",
    "    s.headers.update(headers)\n",
    "\n",
    "    #options = webdriver.FirefoxOptions()\n",
    "    #service = webdriver.FirefoxService(executable_path='/usr/bin/firefox')\n",
    "    #driver = webdriver.Firefox(service=service, options=options)\n",
    "    driver = webdriver.Firefox()\n",
    "    df = None\n",
    "    dh_top, dh_mid, dh_bot = get_display_handles()\n",
    "    print(dh_top, dh_mid, dh_bot)\n",
    "    #input()\n",
    "    # Loop\n",
    "    while url is not None:\n",
    "        response = s.get(url=url)\n",
    "        driver.get(url)\n",
    "        parser = html.fromstring(response.text)\n",
    "        return s, driver, parser\n",
    "        pr(f'**{response.status_code}**: {url}', buffer=dh_top)\n",
    "        \n",
    "        new_data = RF_get_df(parser, index='propertyId')\n",
    "        if df is None:\n",
    "            df = new_data\n",
    "        else:\n",
    "            df = pd.concat((df, new_data))\n",
    "            pr(f'Page {url[-1]}: Added {df.shape[0]:>5} new rows.', buffer=dh_bot)\n",
    "\n",
    "        last_url = url\n",
    "        next_suffix = RF_next_url_suffix(parser)\n",
    "        url = base_url.format(next_suffix) if next_suffix is not None else None\n",
    "        if url is None or last_url == url:\n",
    "            pr(f'**BREAKING**: No more URLs. Last URL: {last_url}', buffer=dh_mid)\n",
    "            break\n",
    "\n",
    "        countdown(min=3, max=7, buffer=dh_mid, postfix=f'Next URL: {url}')   # Sleep\n",
    "        pr(f'Looping from beginning.  Next URL: {url}', buffer=dh_mid)\n",
    "    \n",
    "    return df"
   ]
  },
  {
   "cell_type": "code",
   "execution_count": 16,
   "metadata": {},
   "outputs": [],
   "source": [
    "def get_driver(url='https://www2.alleghenycounty.us/RealEstate/Default.aspx'):\n",
    "    options = webdriver.FirefoxOptions()\n",
    "    service = webdriver.FirefoxService(executable_path=r'/snap/bin/geckodriver')\n",
    "    driver = webdriver.Firefox(options=options, service=service)\n",
    "    driver.get(url)\n",
    "    return driver"
   ]
  },
  {
   "cell_type": "code",
   "execution_count": 10,
   "metadata": {},
   "outputs": [],
   "source": [
    "def setup_page(driver):\n",
    "    # Determine if this is the disclaimer page\n",
    "    try:\n",
    "        if driver.find_element(By.TAG_NAME, value='h1').text.lower() == 'legal disclaimer':\n",
    "            # We need to click to go forward\n",
    "            btn_continue = driver.find_element(by='id', value='btnContinue')\n",
    "            btn_continue.click()\n",
    "    except NoSuchElementException as e:\n",
    "        print('No h1 tag found to compare for legal disclaimer')\n",
    "        pass\n",
    "\n",
    "    try:\n",
    "        driver.find_element(By.CLASS_NAME, 'beta-button-2').click()\n",
    "    except NoSuchElementException as e:\n",
    "        # Not found ... move on\n",
    "        print('beta popup close button was not found; failing silently')\n",
    "        pass"
   ]
  },
  {
   "cell_type": "code",
   "execution_count": 11,
   "metadata": {},
   "outputs": [],
   "source": [
    "def address_search(driver, selectm='Bethel Park'):\n",
    "    #street_name = driver.find_element(By.ID, 'txtStreetName')\n",
    "    #street_name.send_keys(' ')\n",
    "    \n",
    "    select_muni = Select(driver.find_element(By.ID, 'ddlMuniCode'))\n",
    "    select_muni.select_by_visible_text(selectm)\n",
    "\n",
    "    btn_search = driver.find_element(By.ID, 'btnSearch')\n",
    "    btn_search.click()\n",
    "    sleep(3)\n",
    "\n",
    "    pager = None\n",
    "    while pager is None:\n",
    "        try:\n",
    "            pager = driver.find_element(By.ID, 'pnlPageNums')\n",
    "        except Exception as e:\n",
    "            pager = None\n",
    "        driver.find_element(By.ID, 'txtStreetName').send_keys(' ')  \n",
    "        driver.find_element(By.ID, 'btnSearch').click()\n",
    "        sleep(10)\n",
    "\n",
    "    print('loaded')\n",
    "\n",
    "    link = driver.find_element(By.XPATH, '//table[@id=\"dgSearchResults\"]//tr[2]/td/a')\n",
    "    link.click()\n",
    "    \n",
    "#address_search(driver)"
   ]
  },
  {
   "cell_type": "code",
   "execution_count": 82,
   "metadata": {},
   "outputs": [],
   "source": [
    "def grab_page(driver, VERBOSE=False, dh=None):\n",
    "    data = [td.text for td in driver.find_elements(By.XPATH, '//table[@id=\"Table3\"]//td/span')]\n",
    "    \n",
    "    next_key = True\n",
    "    assessments = False\n",
    "    assessment_no = 0\n",
    "    assessment_first = True\n",
    "    \n",
    "    data1 = []\n",
    "    data2 = []\n",
    "    \n",
    "    for idx, d in enumerate(data):\n",
    "        if assessments:\n",
    "            if assessment_no < 4:\n",
    "                if assessment_first:  # It's a key\n",
    "                    #print(d, 'is assessment key.')\n",
    "                    data1.append(d)    \n",
    "                else:  # It's a value\n",
    "                    #print(d, 'is assessment value.')\n",
    "                    d = d.replace('$', '').replace(',', '')\n",
    "\n",
    "                    data2.append(d)\n",
    "                    assessment_no += 1\n",
    "                    \n",
    "                assessment_first = not assessment_first\n",
    "\n",
    "        elif next_key:  # Looking for a key\n",
    "            if d[-1] == ':':  # It's a key\n",
    "                #print(d, 'is a key')\n",
    "                d = d[:-2]  # Strip trailing ' :'\n",
    "                data1.append(d)\n",
    "                next_key = False\n",
    "            else:  # Not actually a key\n",
    "                if d[4:] == ' County Assessed Value (Projected)':\n",
    "                    #print(d, 'is last header for assessments.')\n",
    "                    assessments = True\n",
    "                else:\n",
    "                    if data[idx-1] == 'Sale Price':\n",
    "                        d = d.replace('$', '').replace(',', '')\n",
    "                    elif data[idx-1] == 'Lot Area':\n",
    "                        d = d.replace(' Acres', '')\n",
    "                    #print(d, 'is not actually a key.  Skipping ...')\n",
    "                    next_key = True\n",
    "        else: # expecting a value\n",
    "            #print(d, 'is this a value?')\n",
    "            data2.append(d)\n",
    "            next_key = True\n",
    "\n",
    "    \n",
    "    as_dict = dict(zip(data1, data2))\n",
    "    try:\n",
    "        as_dict['PIN'] = driver.find_element(By.ID, 'BasicInfo1_lblParcelID').text\n",
    "        as_dict['Address'] = driver.find_element(By.ID, 'BasicInfo1_lblAddress').text\n",
    "        as_dict['Owner'] = driver.find_element(By.ID, 'BasicInfo1_lblOwner').text\n",
    "    except NoSuchElementException as e:\n",
    "        dh.update('PIN/Address/Owner not found.  Probably got timed out.')\n",
    "        \n",
    "    if VERBOSE:\n",
    "        if dh is None:\n",
    "            print(as_dict.get('PIN', 'NO_PIN_FOUND'), end='    ')\n",
    "        else:\n",
    "            dh.update(f'Record {i}:\\t{as_dict['PIN']}')\n",
    "    \n",
    "    record_number = int(driver.find_element(By.ID, 'Header1_lblRecNum').text)\n",
    "    \n",
    "    return as_dict, record_number\n",
    "#grab_page(driver)"
   ]
  },
  {
   "cell_type": "code",
   "execution_count": 13,
   "metadata": {},
   "outputs": [],
   "source": [
    "def next_page(driver):\n",
    "    driver.find_element(By.ID, 'Header1_btnNextRec').click()\n",
    "#next_page(driver)"
   ]
  },
  {
   "cell_type": "code",
   "execution_count": 20,
   "metadata": {},
   "outputs": [
    {
     "data": {
      "text/plain": [
       "selenium.webdriver.firefox.webdriver.WebDriver"
      ]
     },
     "execution_count": 20,
     "metadata": {},
     "output_type": "execute_result"
    }
   ],
   "source": [
    "driver = get_driver()\n",
    "type(driver)"
   ]
  },
  {
   "cell_type": "code",
   "execution_count": 70,
   "metadata": {},
   "outputs": [],
   "source": [
    "def goto_page(driver, start_record_num, dh):\n",
    "    current_record = int(driver.find_element(By.ID, 'Header1_lblRecNum').text)\n",
    "    pages_crossed = 0\n",
    "\n",
    "    while current_record != start_record_num:\n",
    "        if pages_crossed == 30:\n",
    "            pages_crossed = 0\n",
    "            countdown(min=5, max=7, buffer=dh, prefix=f'On page {current_record}.  Sleeping')\n",
    "        pages_crossed += 1\n",
    "        next_page(driver)\n",
    "        current_record = int(driver.find_element(By.ID, 'Header1_lblRecNum').text)\n"
   ]
  },
  {
   "cell_type": "code",
   "execution_count": 83,
   "metadata": {},
   "outputs": [
    {
     "name": "stdout",
     "output_type": "stream",
     "text": [
      "loaded\n"
     ]
    },
    {
     "data": {
      "text/plain": [
       "'On record **90**.  Beginning extraction.'"
      ]
     },
     "metadata": {},
     "output_type": "display_data"
    },
    {
     "data": {
      "text/plain": [
       "'PIN/Address/Owner not found.  Probably got timed out.'"
      ]
     },
     "metadata": {},
     "output_type": "display_data"
    },
    {
     "data": {
      "text/markdown": [
       "Sleeping complete ..."
      ],
      "text/plain": [
       "<IPython.core.display.Markdown object>"
      ]
     },
     "metadata": {},
     "output_type": "display_data"
    },
    {
     "ename": "NoSuchElementException",
     "evalue": "Message: Unable to locate element: [id=\"Header1_lblRecNum\"]; For documentation on this error, please visit: https://www.selenium.dev/documentation/webdriver/troubleshooting/errors#no-such-element-exception\nStacktrace:\nRemoteError@chrome://remote/content/shared/RemoteError.sys.mjs:8:8\nWebDriverError@chrome://remote/content/shared/webdriver/Errors.sys.mjs:193:5\nNoSuchElementError@chrome://remote/content/shared/webdriver/Errors.sys.mjs:511:5\ndom.find/</<@chrome://remote/content/shared/DOM.sys.mjs:136:16\n",
     "output_type": "error",
     "traceback": [
      "\u001b[0;31m---------------------------------------------------------------------------\u001b[0m",
      "\u001b[0;31mNoSuchElementException\u001b[0m                    Traceback (most recent call last)",
      "Cell \u001b[0;32mIn[83], line 34\u001b[0m\n\u001b[1;32m     30\u001b[0m         next_page(driver)\n\u001b[1;32m     32\u001b[0m     \u001b[38;5;28;01mreturn\u001b[39;00m df\n\u001b[0;32m---> 34\u001b[0m df \u001b[38;5;241m=\u001b[39m \u001b[43mALCO_fetch\u001b[49m\u001b[43m(\u001b[49m\u001b[43mstart_record_num\u001b[49m\u001b[38;5;241;43m=\u001b[39;49m\u001b[38;5;241;43m90\u001b[39;49m\u001b[43m)\u001b[49m\n\u001b[1;32m     35\u001b[0m df\n",
      "Cell \u001b[0;32mIn[83], line 24\u001b[0m, in \u001b[0;36mALCO_fetch\u001b[0;34m(muni, start_record_num, num)\u001b[0m\n\u001b[1;32m     21\u001b[0m \u001b[38;5;28;01melse\u001b[39;00m:\n\u001b[1;32m     22\u001b[0m     countdown(\u001b[38;5;28mmin\u001b[39m\u001b[38;5;241m=\u001b[39m\u001b[38;5;241m1\u001b[39m, \u001b[38;5;28mmax\u001b[39m\u001b[38;5;241m=\u001b[39m\u001b[38;5;241m6\u001b[39m, buffer\u001b[38;5;241m=\u001b[39mdh_bot)\n\u001b[0;32m---> 24\u001b[0m data, num \u001b[38;5;241m=\u001b[39m \u001b[43mgrab_page\u001b[49m\u001b[43m(\u001b[49m\u001b[43mdriver\u001b[49m\u001b[43m,\u001b[49m\u001b[43m \u001b[49m\u001b[43mVERBOSE\u001b[49m\u001b[38;5;241;43m=\u001b[39;49m\u001b[43mvb\u001b[49m\u001b[43m,\u001b[49m\u001b[43m \u001b[49m\u001b[43mdh\u001b[49m\u001b[38;5;241;43m=\u001b[39;49m\u001b[43mdh_mid\u001b[49m\u001b[43m)\u001b[49m\n\u001b[1;32m     26\u001b[0m \u001b[38;5;28;01mif\u001b[39;00m df \u001b[38;5;129;01mis\u001b[39;00m \u001b[38;5;28;01mNone\u001b[39;00m:\n\u001b[1;32m     27\u001b[0m     df \u001b[38;5;241m=\u001b[39m pd\u001b[38;5;241m.\u001b[39mDataFrame(data, index\u001b[38;5;241m=\u001b[39m[i])\n",
      "Cell \u001b[0;32mIn[82], line 64\u001b[0m, in \u001b[0;36mgrab_page\u001b[0;34m(driver, VERBOSE, dh)\u001b[0m\n\u001b[1;32m     61\u001b[0m     \u001b[38;5;28;01melse\u001b[39;00m:\n\u001b[1;32m     62\u001b[0m         dh\u001b[38;5;241m.\u001b[39mupdate(\u001b[38;5;124mf\u001b[39m\u001b[38;5;124m'\u001b[39m\u001b[38;5;124mRecord \u001b[39m\u001b[38;5;132;01m{\u001b[39;00mi\u001b[38;5;132;01m}\u001b[39;00m\u001b[38;5;124m:\u001b[39m\u001b[38;5;130;01m\\t\u001b[39;00m\u001b[38;5;132;01m{\u001b[39;00mas_dict[\u001b[38;5;124m'\u001b[39m\u001b[38;5;124mPIN\u001b[39m\u001b[38;5;124m'\u001b[39m]\u001b[38;5;132;01m}\u001b[39;00m\u001b[38;5;124m'\u001b[39m)\n\u001b[0;32m---> 64\u001b[0m record_number \u001b[38;5;241m=\u001b[39m \u001b[38;5;28mint\u001b[39m(\u001b[43mdriver\u001b[49m\u001b[38;5;241;43m.\u001b[39;49m\u001b[43mfind_element\u001b[49m\u001b[43m(\u001b[49m\u001b[43mBy\u001b[49m\u001b[38;5;241;43m.\u001b[39;49m\u001b[43mID\u001b[49m\u001b[43m,\u001b[49m\u001b[43m \u001b[49m\u001b[38;5;124;43m'\u001b[39;49m\u001b[38;5;124;43mHeader1_lblRecNum\u001b[39;49m\u001b[38;5;124;43m'\u001b[39;49m\u001b[43m)\u001b[49m\u001b[38;5;241m.\u001b[39mtext)\n\u001b[1;32m     66\u001b[0m \u001b[38;5;28;01mreturn\u001b[39;00m as_dict, record_number\n",
      "File \u001b[0;32m~/projects/data-science/venv/lib/python3.12/site-packages/selenium/webdriver/remote/webdriver.py:770\u001b[0m, in \u001b[0;36mWebDriver.find_element\u001b[0;34m(self, by, value)\u001b[0m\n\u001b[1;32m    767\u001b[0m         \u001b[38;5;28;01mraise\u001b[39;00m NoSuchElementException(\u001b[38;5;124mf\u001b[39m\u001b[38;5;124m\"\u001b[39m\u001b[38;5;124mCannot locate relative element with: \u001b[39m\u001b[38;5;132;01m{\u001b[39;00mby\u001b[38;5;241m.\u001b[39mroot\u001b[38;5;132;01m}\u001b[39;00m\u001b[38;5;124m\"\u001b[39m)\n\u001b[1;32m    768\u001b[0m     \u001b[38;5;28;01mreturn\u001b[39;00m elements[\u001b[38;5;241m0\u001b[39m]\n\u001b[0;32m--> 770\u001b[0m \u001b[38;5;28;01mreturn\u001b[39;00m \u001b[38;5;28;43mself\u001b[39;49m\u001b[38;5;241;43m.\u001b[39;49m\u001b[43mexecute\u001b[49m\u001b[43m(\u001b[49m\u001b[43mCommand\u001b[49m\u001b[38;5;241;43m.\u001b[39;49m\u001b[43mFIND_ELEMENT\u001b[49m\u001b[43m,\u001b[49m\u001b[43m \u001b[49m\u001b[43m{\u001b[49m\u001b[38;5;124;43m\"\u001b[39;49m\u001b[38;5;124;43musing\u001b[39;49m\u001b[38;5;124;43m\"\u001b[39;49m\u001b[43m:\u001b[49m\u001b[43m \u001b[49m\u001b[43mby\u001b[49m\u001b[43m,\u001b[49m\u001b[43m \u001b[49m\u001b[38;5;124;43m\"\u001b[39;49m\u001b[38;5;124;43mvalue\u001b[39;49m\u001b[38;5;124;43m\"\u001b[39;49m\u001b[43m:\u001b[49m\u001b[43m \u001b[49m\u001b[43mvalue\u001b[49m\u001b[43m}\u001b[49m\u001b[43m)\u001b[49m[\u001b[38;5;124m\"\u001b[39m\u001b[38;5;124mvalue\u001b[39m\u001b[38;5;124m\"\u001b[39m]\n",
      "File \u001b[0;32m~/projects/data-science/venv/lib/python3.12/site-packages/selenium/webdriver/remote/webdriver.py:384\u001b[0m, in \u001b[0;36mWebDriver.execute\u001b[0;34m(self, driver_command, params)\u001b[0m\n\u001b[1;32m    382\u001b[0m response \u001b[38;5;241m=\u001b[39m \u001b[38;5;28mself\u001b[39m\u001b[38;5;241m.\u001b[39mcommand_executor\u001b[38;5;241m.\u001b[39mexecute(driver_command, params)\n\u001b[1;32m    383\u001b[0m \u001b[38;5;28;01mif\u001b[39;00m response:\n\u001b[0;32m--> 384\u001b[0m     \u001b[38;5;28;43mself\u001b[39;49m\u001b[38;5;241;43m.\u001b[39;49m\u001b[43merror_handler\u001b[49m\u001b[38;5;241;43m.\u001b[39;49m\u001b[43mcheck_response\u001b[49m\u001b[43m(\u001b[49m\u001b[43mresponse\u001b[49m\u001b[43m)\u001b[49m\n\u001b[1;32m    385\u001b[0m     response[\u001b[38;5;124m\"\u001b[39m\u001b[38;5;124mvalue\u001b[39m\u001b[38;5;124m\"\u001b[39m] \u001b[38;5;241m=\u001b[39m \u001b[38;5;28mself\u001b[39m\u001b[38;5;241m.\u001b[39m_unwrap_value(response\u001b[38;5;241m.\u001b[39mget(\u001b[38;5;124m\"\u001b[39m\u001b[38;5;124mvalue\u001b[39m\u001b[38;5;124m\"\u001b[39m, \u001b[38;5;28;01mNone\u001b[39;00m))\n\u001b[1;32m    386\u001b[0m     \u001b[38;5;28;01mreturn\u001b[39;00m response\n",
      "File \u001b[0;32m~/projects/data-science/venv/lib/python3.12/site-packages/selenium/webdriver/remote/errorhandler.py:232\u001b[0m, in \u001b[0;36mErrorHandler.check_response\u001b[0;34m(self, response)\u001b[0m\n\u001b[1;32m    230\u001b[0m         alert_text \u001b[38;5;241m=\u001b[39m value[\u001b[38;5;124m\"\u001b[39m\u001b[38;5;124malert\u001b[39m\u001b[38;5;124m\"\u001b[39m]\u001b[38;5;241m.\u001b[39mget(\u001b[38;5;124m\"\u001b[39m\u001b[38;5;124mtext\u001b[39m\u001b[38;5;124m\"\u001b[39m)\n\u001b[1;32m    231\u001b[0m     \u001b[38;5;28;01mraise\u001b[39;00m exception_class(message, screen, stacktrace, alert_text)  \u001b[38;5;66;03m# type: ignore[call-arg]  # mypy is not smart enough here\u001b[39;00m\n\u001b[0;32m--> 232\u001b[0m \u001b[38;5;28;01mraise\u001b[39;00m exception_class(message, screen, stacktrace)\n",
      "\u001b[0;31mNoSuchElementException\u001b[0m: Message: Unable to locate element: [id=\"Header1_lblRecNum\"]; For documentation on this error, please visit: https://www.selenium.dev/documentation/webdriver/troubleshooting/errors#no-such-element-exception\nStacktrace:\nRemoteError@chrome://remote/content/shared/RemoteError.sys.mjs:8:8\nWebDriverError@chrome://remote/content/shared/webdriver/Errors.sys.mjs:193:5\nNoSuchElementError@chrome://remote/content/shared/webdriver/Errors.sys.mjs:511:5\ndom.find/</<@chrome://remote/content/shared/DOM.sys.mjs:136:16\n"
     ]
    }
   ],
   "source": [
    "def ALCO_fetch(muni='Bethel Park', start_record_num=1, num=30):\n",
    "    driver = get_driver()\n",
    "    setup_page(driver)\n",
    "    address_search(driver, selectm=muni)\n",
    "    dh_top, dh_mid, dh_bot = get_display_handles()\n",
    "\n",
    "    #  Handle data\n",
    "    i = 0\n",
    "    max_records = 30  # int(driver.find_element(By.ID, 'Header1_lblTotRec').text)\n",
    "    record_nos = range(max_records)\n",
    "    current_record = int(driver.find_element(By.ID, 'Header1_lblRecNum').text)\n",
    "    df = None\n",
    "    if current_record != start_record_num:\n",
    "        goto_page(driver, start_record_num, dh_bot)\n",
    "    current_record = int(driver.find_element(By.ID, 'Header1_lblRecNum').text)\n",
    "    dh_top.update(f'On record **{current_record}**.  Beginning extraction.')\n",
    "    for i in record_nos:\n",
    "        vb = (i % 10) == 0\n",
    "        if vb:\n",
    "            countdown(min=5, max=30, buffer=dh_bot)\n",
    "        else:\n",
    "            countdown(min=1, max=6, buffer=dh_bot)\n",
    "\n",
    "        data, num = grab_page(driver, VERBOSE=vb, dh=dh_mid)\n",
    "\n",
    "        if df is None:\n",
    "            df = pd.DataFrame(data, index=[i])\n",
    "        else:\n",
    "            df = pd.concat([df, pd.DataFrame(data, index=[i])])\n",
    "        next_page(driver)\n",
    "\n",
    "    return df\n",
    "\n",
    "df = ALCO_fetch(start_record_num=90)\n",
    "df"
   ]
  },
  {
   "cell_type": "code",
   "execution_count": 71,
   "metadata": {},
   "outputs": [],
   "source": [
    "first_df = df.copy()"
   ]
  },
  {
   "cell_type": "code",
   "execution_count": null,
   "metadata": {},
   "outputs": [
    {
     "ename": "NoSuchElementException",
     "evalue": "Message: Unable to locate element: [id=\"txtParcelID5\"]; For documentation on this error, please visit: https://www.selenium.dev/documentation/webdriver/troubleshooting/errors#no-such-element-exception\nStacktrace:\nRemoteError@chrome://remote/content/shared/RemoteError.sys.mjs:8:8\nWebDriverError@chrome://remote/content/shared/webdriver/Errors.sys.mjs:193:5\nNoSuchElementError@chrome://remote/content/shared/webdriver/Errors.sys.mjs:511:5\ndom.find/</<@chrome://remote/content/shared/DOM.sys.mjs:136:16\n",
     "output_type": "error",
     "traceback": [
      "\u001b[0;31m---------------------------------------------------------------------------\u001b[0m",
      "\u001b[0;31mNoSuchElementException\u001b[0m                    Traceback (most recent call last)",
      "Cell \u001b[0;32mIn[57], line 2\u001b[0m\n\u001b[1;32m      1\u001b[0m \u001b[38;5;66;03m# enter 0 in fifth parcel id textbox\u001b[39;00m\n\u001b[0;32m----> 2\u001b[0m textbox5 \u001b[38;5;241m=\u001b[39m \u001b[43mdriver\u001b[49m\u001b[38;5;241;43m.\u001b[39;49m\u001b[43mfind_element\u001b[49m\u001b[43m(\u001b[49m\u001b[43mBy\u001b[49m\u001b[38;5;241;43m.\u001b[39;49m\u001b[43mID\u001b[49m\u001b[43m,\u001b[49m\u001b[43m \u001b[49m\u001b[38;5;124;43m'\u001b[39;49m\u001b[38;5;124;43mtxtParcelID5\u001b[39;49m\u001b[38;5;124;43m'\u001b[39;49m\u001b[43m)\u001b[49m\n\u001b[1;32m      3\u001b[0m textbox5\u001b[38;5;241m.\u001b[39msend_keys(\u001b[38;5;124m'\u001b[39m\u001b[38;5;124m0\u001b[39m\u001b[38;5;124m'\u001b[39m)\n",
      "File \u001b[0;32m~/projects/data-science/venv/lib/python3.12/site-packages/selenium/webdriver/remote/webdriver.py:770\u001b[0m, in \u001b[0;36mWebDriver.find_element\u001b[0;34m(self, by, value)\u001b[0m\n\u001b[1;32m    767\u001b[0m         \u001b[38;5;28;01mraise\u001b[39;00m NoSuchElementException(\u001b[38;5;124mf\u001b[39m\u001b[38;5;124m\"\u001b[39m\u001b[38;5;124mCannot locate relative element with: \u001b[39m\u001b[38;5;132;01m{\u001b[39;00mby\u001b[38;5;241m.\u001b[39mroot\u001b[38;5;132;01m}\u001b[39;00m\u001b[38;5;124m\"\u001b[39m)\n\u001b[1;32m    768\u001b[0m     \u001b[38;5;28;01mreturn\u001b[39;00m elements[\u001b[38;5;241m0\u001b[39m]\n\u001b[0;32m--> 770\u001b[0m \u001b[38;5;28;01mreturn\u001b[39;00m \u001b[38;5;28;43mself\u001b[39;49m\u001b[38;5;241;43m.\u001b[39;49m\u001b[43mexecute\u001b[49m\u001b[43m(\u001b[49m\u001b[43mCommand\u001b[49m\u001b[38;5;241;43m.\u001b[39;49m\u001b[43mFIND_ELEMENT\u001b[49m\u001b[43m,\u001b[49m\u001b[43m \u001b[49m\u001b[43m{\u001b[49m\u001b[38;5;124;43m\"\u001b[39;49m\u001b[38;5;124;43musing\u001b[39;49m\u001b[38;5;124;43m\"\u001b[39;49m\u001b[43m:\u001b[49m\u001b[43m \u001b[49m\u001b[43mby\u001b[49m\u001b[43m,\u001b[49m\u001b[43m \u001b[49m\u001b[38;5;124;43m\"\u001b[39;49m\u001b[38;5;124;43mvalue\u001b[39;49m\u001b[38;5;124;43m\"\u001b[39;49m\u001b[43m:\u001b[49m\u001b[43m \u001b[49m\u001b[43mvalue\u001b[49m\u001b[43m}\u001b[49m\u001b[43m)\u001b[49m[\u001b[38;5;124m\"\u001b[39m\u001b[38;5;124mvalue\u001b[39m\u001b[38;5;124m\"\u001b[39m]\n",
      "File \u001b[0;32m~/projects/data-science/venv/lib/python3.12/site-packages/selenium/webdriver/remote/webdriver.py:384\u001b[0m, in \u001b[0;36mWebDriver.execute\u001b[0;34m(self, driver_command, params)\u001b[0m\n\u001b[1;32m    382\u001b[0m response \u001b[38;5;241m=\u001b[39m \u001b[38;5;28mself\u001b[39m\u001b[38;5;241m.\u001b[39mcommand_executor\u001b[38;5;241m.\u001b[39mexecute(driver_command, params)\n\u001b[1;32m    383\u001b[0m \u001b[38;5;28;01mif\u001b[39;00m response:\n\u001b[0;32m--> 384\u001b[0m     \u001b[38;5;28;43mself\u001b[39;49m\u001b[38;5;241;43m.\u001b[39;49m\u001b[43merror_handler\u001b[49m\u001b[38;5;241;43m.\u001b[39;49m\u001b[43mcheck_response\u001b[49m\u001b[43m(\u001b[49m\u001b[43mresponse\u001b[49m\u001b[43m)\u001b[49m\n\u001b[1;32m    385\u001b[0m     response[\u001b[38;5;124m\"\u001b[39m\u001b[38;5;124mvalue\u001b[39m\u001b[38;5;124m\"\u001b[39m] \u001b[38;5;241m=\u001b[39m \u001b[38;5;28mself\u001b[39m\u001b[38;5;241m.\u001b[39m_unwrap_value(response\u001b[38;5;241m.\u001b[39mget(\u001b[38;5;124m\"\u001b[39m\u001b[38;5;124mvalue\u001b[39m\u001b[38;5;124m\"\u001b[39m, \u001b[38;5;28;01mNone\u001b[39;00m))\n\u001b[1;32m    386\u001b[0m     \u001b[38;5;28;01mreturn\u001b[39;00m response\n",
      "File \u001b[0;32m~/projects/data-science/venv/lib/python3.12/site-packages/selenium/webdriver/remote/errorhandler.py:232\u001b[0m, in \u001b[0;36mErrorHandler.check_response\u001b[0;34m(self, response)\u001b[0m\n\u001b[1;32m    230\u001b[0m         alert_text \u001b[38;5;241m=\u001b[39m value[\u001b[38;5;124m\"\u001b[39m\u001b[38;5;124malert\u001b[39m\u001b[38;5;124m\"\u001b[39m]\u001b[38;5;241m.\u001b[39mget(\u001b[38;5;124m\"\u001b[39m\u001b[38;5;124mtext\u001b[39m\u001b[38;5;124m\"\u001b[39m)\n\u001b[1;32m    231\u001b[0m     \u001b[38;5;28;01mraise\u001b[39;00m exception_class(message, screen, stacktrace, alert_text)  \u001b[38;5;66;03m# type: ignore[call-arg]  # mypy is not smart enough here\u001b[39;00m\n\u001b[0;32m--> 232\u001b[0m \u001b[38;5;28;01mraise\u001b[39;00m exception_class(message, screen, stacktrace)\n",
      "\u001b[0;31mNoSuchElementException\u001b[0m: Message: Unable to locate element: [id=\"txtParcelID5\"]; For documentation on this error, please visit: https://www.selenium.dev/documentation/webdriver/troubleshooting/errors#no-such-element-exception\nStacktrace:\nRemoteError@chrome://remote/content/shared/RemoteError.sys.mjs:8:8\nWebDriverError@chrome://remote/content/shared/webdriver/Errors.sys.mjs:193:5\nNoSuchElementError@chrome://remote/content/shared/webdriver/Errors.sys.mjs:511:5\ndom.find/</<@chrome://remote/content/shared/DOM.sys.mjs:136:16\n"
     ]
    }
   ],
   "source": [
    "# enter 0 in fifth parcel id textbox\n",
    "textbox5 = driver.find_element(By.ID, 'txtParcelID5')\n",
    "textbox5.send_keys('0')"
   ]
  },
  {
   "cell_type": "code",
   "execution_count": null,
   "metadata": {},
   "outputs": [],
   "source": [
    "btn_search = driver.find_element(By.ID, 'btnSearch')\n",
    "btn_search.click()\n",
    "sleep(3)"
   ]
  },
  {
   "cell_type": "code",
   "execution_count": null,
   "metadata": {},
   "outputs": [],
   "source": []
  },
  {
   "cell_type": "code",
   "execution_count": null,
   "metadata": {},
   "outputs": [
    {
     "name": "stdout",
     "output_type": "stream",
     "text": [
      "loaded\n"
     ]
    }
   ],
   "source": [
    "pager = None\n",
    "while pager is None:\n",
    "    try:\n",
    "        pager = driver.find_element(By.ID, 'pnlPageNums')\n",
    "    except Exception as e:\n",
    "        pager = None\n",
    "    driver.find_element(By.ID, 'btnSearch').click()\n",
    "    sleep(10)\n",
    "\n",
    "print('loaded')"
   ]
  },
  {
   "cell_type": "code",
   "execution_count": null,
   "metadata": {},
   "outputs": [
    {
     "data": {
      "text/plain": [
       "'0001-A-00100-0000-00'"
      ]
     },
     "execution_count": 40,
     "metadata": {},
     "output_type": "execute_result"
    }
   ],
   "source": [
    "link = driver.find_element(By.XPATH, '//table[@id=\"dgSearchResults\"]//tr[2]/td/a')\n",
    "link.text"
   ]
  },
  {
   "cell_type": "code",
   "execution_count": null,
   "metadata": {},
   "outputs": [
    {
     "data": {
      "text/plain": [
       "<selenium.webdriver.remote.webelement.WebElement (session=\"86ae0c1c-1997-4455-b7b9-dd492023d26e\", element=\"fc311bfb-8939-49be-9940-4b445b8e5af3\")>"
      ]
     },
     "execution_count": 41,
     "metadata": {},
     "output_type": "execute_result"
    }
   ],
   "source": [
    "driver.find_element(By.XPATH, '//table[@id=\"dgSearchResults\"]//tr[2]/td/a')"
   ]
  }
 ],
 "metadata": {
  "kernelspec": {
   "display_name": "venv",
   "language": "python",
   "name": "python3"
  },
  "language_info": {
   "codemirror_mode": {
    "name": "ipython",
    "version": 3
   },
   "file_extension": ".py",
   "mimetype": "text/x-python",
   "name": "python",
   "nbconvert_exporter": "python",
   "pygments_lexer": "ipython3",
   "version": "3.12.3"
  }
 },
 "nbformat": 4,
 "nbformat_minor": 2
}
